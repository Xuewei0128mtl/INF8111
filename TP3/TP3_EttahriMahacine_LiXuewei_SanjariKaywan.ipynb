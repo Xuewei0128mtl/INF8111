{
  "cells": [
    {
      "cell_type": "markdown",
      "metadata": {
        "id": "4mh2MiuVMazk"
      },
      "source": [
        "# TP3 - Market Basket Analysis\n",
        "INF8111 - Fouille de données, Eté 2024\n",
        "### Membres de l'équipe\n",
        "    - Ettahri Mahacine - 2312965 - 1\n",
        "    - Li Xuewei - 1879356 - 2\n",
        "    - Sanjari Kaywan - 1989922 - 3\n"
      ]
    },
    {
      "cell_type": "code",
      "execution_count": null,
      "metadata": {
        "id": "oBYZkM_L5NX9"
      },
      "outputs": [],
      "source": [
        "ROOT = 'data/'"
      ]
    },
    {
      "cell_type": "markdown",
      "metadata": {
        "id": "bh1o2bpwPQJG"
      },
      "source": [
        "## Date et directives de remise\n",
        "Vous remettrez l'ensemble des fichiers nécessaires à la réalisation de TP au sein d'une archive compressée ZIP nommée TP3\\_NomDuMembre1\\_NomDuMembre2\\_NomDuMembre3\n",
        "\n",
        "Cette archive devra, au minimum, inclure ce notebook, nommé TP3\\_NomDuMembre1\\_NomDuMembre2\\_NomDuMembre3.ipynb\n",
        "\n",
        "**Date limite: 23 juin à 23:55**."
      ]
    },
    {
      "cell_type": "markdown",
      "metadata": {
        "id": "taIxayWsmT9m"
      },
      "source": [
        "## 1. Introduction: Market Basket Analysis"
      ]
    },
    {
      "cell_type": "markdown",
      "metadata": {
        "id": "ZQOy7hD8t76L"
      },
      "source": [
        "### Présentation\n",
        "\n",
        "Le *Market Basket Analysis* (MBA) est une technique d'analyse de la fouille de données qui permet de découvrir les associations entre les produits ou leur regroupement. En explorant des motifs intéressants à partir d'une vaste collection de données, le MBA vise à comprendre / révéler les comportements d'achat des clients en se basant sur la théorie selon laquelle si vous avez acheté un certain ensemble de produits, vous êtes plus (ou moins) susceptible d'acheter un autre groupe de produits. En d'autres termes, le MBA permet aux détaillants d'identifier la relation entre les articles que les clients achètent, révélant des tendances d'articles souvent achetés ensemble.\n",
        "\n",
        "Une approche largement utilisée pour explorer ces motifs consiste à construire *** des règles d'association *** telles que\n",
        "- **si** acheté *ITEM_1* **alors** achètera *ITEM_2* avec **confiance** *X*.\n",
        "\n",
        "Ces associations n'ont pas à être des règles individuelles. Ils peuvent impliquer de nombreux éléments. Par exemple, une personne dans un supermarché peut ajouter des œufs dans son panier, puis le MBA peut suggérer qu'elle achètera également du pain et/ou de la farine:\n",
        "\n",
        "+ **si**  acheté *OEUFS* **alors** achètera [*PAIN* avec confiance *0,2*; *FARINE* avec confiance 0,05].\n",
        "\n",
        "Cependant, si la personne décide maintenant d'ajouter de la farine à son panier, la nouvelle règle d'association pourrait être comme ci-dessous, suggérant des ingrédients pour faire un gâteau.\n",
        "\n",
        "+ **si** acheté [*OEUFS, FARINE*] **alors** achètera [*SUCRE* avec confiance 0,45; LEVURE avec confiance 0,12; *PAIN* avec confiance *0,03*].\n",
        "\n",
        "Il existe de nombreux scénarios réels où le MBA joue un rôle central dans l'analyse des données, comme les transactions de supermarché, les commandes en ligne ou l'historique des cartes de crédit. Avec une approche un peu moins mercantile, cet algorithme est aussi utilisé dans le domaine médical. Les spécialistes du marketing peuvent utiliser ces règles d'association pour organiser les produits corrélés plus près les uns des autres sur les étagères des magasins ou faire des suggestions en ligne afin que les clients achètent plus d'articles. Un MBA peut généralement aider les détaillants à répondre aux questions les suivantes:\n",
        "\n",
        "- Quels articles sont souvent achetés ensemble ?\n",
        "- Étant donné un panier, quels articles suggérer ?\n",
        "- Comment placer les articles ensemble sur les étagères ?\n"
      ]
    },
    {
      "cell_type": "markdown",
      "metadata": {
        "id": "_WwuVfQgmaRV"
      },
      "source": [
        "### Objectif\n",
        "\n",
        "Votre objectif dans ce TP est de développer un algorithme MBA pour révéler les motifs en créant des règles d'association dans un ensemble de données volumineux avec plus de trois millions de transactions de supermarché. Cependant, la collecte de règles d'association dans les grands ensembles de données est un problème très intensif en calcul, ce qui rend presque impossible leur exécution sans système distribué. Par conséquent, pour exécuter votre algorithme, vous aurez accès à un cluster de *cloud computing* distribué avec des centaines de cœurs.\n",
        "\n",
        "À cette fin, un algorithme **MapReduce** sera implémenté avec le framework [Apache Spark](http://spark.apache.org), un système informatique distribué rapide. En résumé, Spark est un framework open source conçu avec une méthodologie *scale-out* qui en fait un outil très puissant pour les programmeurs ou les développeurs d'applications pour effectuer un volume massif de calculs et de traitement de données dans des environnements distribués. Spark fournit des API de haut niveau qui facilitent la création d'applications parallèles sans avoir à se soucier de la façon dont votre code et vos données sont parallélisés / distribués par le cluster informatique. Spark fait tout pour vous.\n",
        "\n",
        "La mise en œuvre suivra l'algorithme d'analyse du panier de marché présenté par Jongwook Woo et Yuhang Xu (2012). L'image **workflow.pdf** illustre le flux de travail de l'algorithme et doit être utilisée pour consultation tout au long de ce TP. Les cases bleues sont celles où vous devez implémenter une méthode pour effectuer une fonction de mappage ou de réduction, et les cases grises représentent leur sortie attendue. **Toutes ces opérations sont expliquées en détail dans les sections suivantes.**"
      ]
    },
    {
      "cell_type": "markdown",
      "metadata": {
        "id": "VmJEz5JEMazl"
      },
      "source": [
        "## 1. Configuration de Spark"
      ]
    },
    {
      "cell_type": "markdown",
      "metadata": {
        "id": "kISGZ7w7mue0"
      },
      "source": [
        "#### Exécution avec le notebook Google Colab (fortement conseillé)"
      ]
    },
    {
      "cell_type": "code",
      "execution_count": null,
      "metadata": {
        "colab": {
          "base_uri": "https://localhost:8080/"
        },
        "id": "JmUMt4htMazm",
        "outputId": "5a1226e7-7b1b-43d8-c2b8-d1fc07c49f85"
      },
      "outputs": [
        {
          "name": "stdout",
          "output_type": "stream",
          "text": [
            "Collecting pyspark\n",
            "  Downloading pyspark-3.5.1.tar.gz (317.0 MB)\n",
            "\u001b[2K     \u001b[90m━━━━━━━━━━━━━━━━━━━━━━━━━━━━━━━━━━━━━━━━\u001b[0m \u001b[32m317.0/317.0 MB\u001b[0m \u001b[31m1.6 MB/s\u001b[0m eta \u001b[36m0:00:00\u001b[0m\n",
            "\u001b[?25h  Preparing metadata (setup.py) ... \u001b[?25l\u001b[?25hdone\n",
            "Requirement already satisfied: py4j==0.10.9.7 in /usr/local/lib/python3.10/dist-packages (from pyspark) (0.10.9.7)\n",
            "Building wheels for collected packages: pyspark\n",
            "  Building wheel for pyspark (setup.py) ... \u001b[?25l\u001b[?25hdone\n",
            "  Created wheel for pyspark: filename=pyspark-3.5.1-py2.py3-none-any.whl size=317488491 sha256=29a76b413c415b98fca99021c708ba6afc4be42ae4f3416ca04c97a497c73495\n",
            "  Stored in directory: /root/.cache/pip/wheels/80/1d/60/2c256ed38dddce2fdd93be545214a63e02fbd8d74fb0b7f3a6\n",
            "Successfully built pyspark\n",
            "Installing collected packages: pyspark\n",
            "Successfully installed pyspark-3.5.1\n"
          ]
        }
      ],
      "source": [
        "import os\n",
        "!apt-get install openjdk-17-jdk-headless -qq > /dev/null\n",
        "os.environ[\"JAVA_HOME\"] = \"/usr/lib/jvm/java-17-openjdk-amd64\"\n",
        "!pip install pyspark"
      ]
    },
    {
      "cell_type": "markdown",
      "metadata": {
        "id": "dGqidjm0m46p"
      },
      "source": [
        "#### Exécution en local\n",
        "\n"
      ]
    },
    {
      "cell_type": "markdown",
      "metadata": {
        "id": "g1PhMitvnCW2"
      },
      "source": [
        "Spark fonctionne sur les systèmes Windows et UNIX (par exemple, Linux, Mac OS). Il est facile d'exécuter Spark localement sur une seule machine - tout ce dont vous avez besoin est d'avoir Java installé sur votre système PATH, ou la variable d'environnement JAVA_HOME pointant vers une installation Java. Il est obligatoire que le **JDK v8** soit installé sur votre système, car Spark ne prend actuellement en charge que cette version. Si ce n'est pas le cas, accédez à [la page Web de Java](https://www.oracle.com/technetwork/java/javase/downloads/jdk8-downloads-2133151.html) pour télécharger et installer une machine virtuelle Java. N'oubliez pas de définir la variable d'environnement JAVA_HOME pour utiliser JDK v8 si votre installation ne le fait pas automatiquement.\n",
        "\n",
        "L'interface entre Python et Spark se fait via **PySpark**, qui peut être installé en exécutant `pip install pyspark` ou configuré en suivant la séquence ci-dessous:\n",
        "\n",
        "1. D'abord, allez sur http://spark.apache.org/downloads\n",
        "2. Sélectionnez la dernière version de Spark et le package pré-construit pour Apache Hadoop 2.7\n",
        "3. Cliquez pour télécharger **spark-2.4.5-bin-hadoop2.7.tgz** et décompressez-le dans le dossier de votre choix.\n",
        "4. Ensuite, exportez les variables suivantes pour lier PYSPARK (l'interface python de Spark) à votre distribution python dans votre fichier `~/.bash_profile`.\n",
        "\n",
        "``\n",
        "export SPARK_HOME=/chemin/ vers / spark-2.4.5-bin-hadoop2.7\n",
        "export PYTHONPATH=\"$SPARK_HOME/python:$SPARK_HOME/python/lib/py4j-0.10.7-src.zip:$SPARK_HOME/python/lib/pyspark.zip:$ PYTHONPATH\"\n",
        "export PYSPARK_PYTHON=/chemin/vers/votre/python3\n",
        "``\n",
        "\n",
        "5. Exécutez `source ~./bash_profile` pour effectuer les modifications et redémarrer cette session de notebook jupyter."
      ]
    },
    {
      "cell_type": "markdown",
      "metadata": {
        "id": "rovSCW_vYs7m"
      },
      "source": [
        "#### Test de l'installation\n",
        "À l'aide du code suivant, vous pouvez tester si Spark est correctement installé."
      ]
    },
    {
      "cell_type": "code",
      "execution_count": null,
      "metadata": {
        "colab": {
          "base_uri": "https://localhost:8080/"
        },
        "id": "UxgNiBFkYs7n",
        "outputId": "bbca9ee3-51d6-458c-ba7d-3b5e645b3540"
      },
      "outputs": [
        {
          "name": "stdout",
          "output_type": "stream",
          "text": [
            "+-----+\n",
            "|hello|\n",
            "+-----+\n",
            "|spark|\n",
            "+-----+\n",
            "\n"
          ]
        }
      ],
      "source": [
        "import pyspark\n",
        "from pyspark.sql import SparkSession\n",
        "spark = SparkSession.builder.getOrCreate()\n",
        "df = spark.sql(\"select 'spark' as hello \")\n",
        "df.show()"
      ]
    },
    {
      "cell_type": "markdown",
      "metadata": {
        "id": "MSbOqazVnsMf"
      },
      "source": [
        "### 1.1 Exemple de comptage de produits / Products Counting Example"
      ]
    },
    {
      "cell_type": "markdown",
      "metadata": {
        "id": "QaYpUpOFMazu"
      },
      "source": [
        "Pour tester votre installation et commencer à vous familiariser avec Spark, nous suivrons un exemple qui compte combien de fois les produits du GroceryDataset dataset ont été achetés.\n",
        "\n",
        "Le principal point d'entrée pour commencer la programmation avec Spark est [l'API RDD](https://spark.apache.org/docs/latest/rdd-programming-guide.html), une excellente abstraction Spark pour travailler avec MapReduce. RDD est une collection d'éléments partitionnés sur les nœuds du cluster qui peuvent fonctionner en parallèle. En d'autres termes, RDD est la façon dont Spark maintient vos données prêtes à exécuter une fonction (par exemple, une fonction Map ou une fonction reduce) en parallèle. **Ne vous inquiétez pas si cela semble toujours déroutant, il sera clair une fois que vous commencerez à l'implémenter**. Cependant, cela fait partie de ce TP d'étudier / consulter [Spark python API](https://spark.apache.org/docs/latest/api/python/) et d'apprendre à l'utiliser. Certaines fonctions utiles offertes par l'API RDD sont:\n",
        "\n",
        "1. **map**: return a new RDD by applying a function to each element of this RDD.\n",
        "2. **flatMap**: return a new RDD by first applying a function to all elements of this RDD, and then flattening the results. **Should be used when each entry will yield more than one mapped element**\n",
        "3. **reduce**: reduces the elements of this RDD using the specified commutative and associative binary operator.\n",
        "4. **reduceByKey**: merge the values for each key using an associative and commutative reduce function\n",
        "5. **groupByKey**: group the values for each key in the RDD into a single sequence\n",
        "6. **collect**: return a list that contains all of the elements in this RDD. **Should not be used when working with a lot of data**\n",
        "7. **takeSample**: return a sampled subset of this RDD\n",
        "8. **count**: return the number of elements in this RDD.\n",
        "9. **filter**: return a new RDD containing only the elements that satisfy a predicate."
      ]
    },
    {
      "cell_type": "code",
      "execution_count": null,
      "metadata": {
        "colab": {
          "base_uri": "https://localhost:8080/"
        },
        "id": "NZDz1nrBMazu",
        "outputId": "92507dd2-2127-47ff-fa1c-ef8898a960d7"
      },
      "outputs": [
        {
          "name": "stdout",
          "output_type": "stream",
          "text": [
            "Grocery dataset\n",
            "+--------+--------------------+\n",
            "|order_id|         transaction|\n",
            "+--------+--------------------+\n",
            "|       0|  MILK,BREAD,BISCUIT|\n",
            "|       1|BREAD,MILK,BISCUI...|\n",
            "|       2| BREAD,TEA,BOURNVITA|\n",
            "|       3|JAM,MAGGI,BREAD,MILK|\n",
            "|       4|   MAGGI,TEA,BISCUIT|\n",
            "|       5| BREAD,TEA,BOURNVITA|\n",
            "|       6|MAGGI,TEA,CORNFLAKES|\n",
            "|       7|MAGGI,BREAD,TEA,B...|\n",
            "|       8| JAM,MAGGI,BREAD,TEA|\n",
            "|       9|          BREAD,MILK|\n",
            "|      10|COFFEE,COCK,BISCU...|\n",
            "|      11|COFFEE,COCK,BISCU...|\n",
            "|      12|COFFEE,SUGER,BOUR...|\n",
            "|      13|   BREAD,COFFEE,COCK|\n",
            "|      14| BREAD,SUGER,BISCUIT|\n",
            "|      15|COFFEE,SUGER,CORN...|\n",
            "|      16|BREAD,SUGER,BOURN...|\n",
            "|      17|  BREAD,COFFEE,SUGER|\n",
            "|      18|  BREAD,COFFEE,SUGER|\n",
            "|      19|TEA,MILK,COFFEE,C...|\n",
            "+--------+--------------------+\n",
            "\n",
            "Grocery dataframe as a RDD object (list of Row objects):\n",
            "\t [Row(order_id=0, transaction='MILK,BREAD,BISCUIT'), Row(order_id=1, transaction='BREAD,MILK,BISCUIT,CORNFLAKES'), Row(order_id=2, transaction='BREAD,TEA,BOURNVITA'), Row(order_id=3, transaction='JAM,MAGGI,BREAD,MILK'), Row(order_id=4, transaction='MAGGI,TEA,BISCUIT'), Row(order_id=5, transaction='BREAD,TEA,BOURNVITA'), Row(order_id=6, transaction='MAGGI,TEA,CORNFLAKES'), Row(order_id=7, transaction='MAGGI,BREAD,TEA,BISCUIT'), Row(order_id=8, transaction='JAM,MAGGI,BREAD,TEA'), Row(order_id=9, transaction='BREAD,MILK'), Row(order_id=10, transaction='COFFEE,COCK,BISCUIT,CORNFLAKES'), Row(order_id=11, transaction='COFFEE,COCK,BISCUIT,CORNFLAKES'), Row(order_id=12, transaction='COFFEE,SUGER,BOURNVITA'), Row(order_id=13, transaction='BREAD,COFFEE,COCK'), Row(order_id=14, transaction='BREAD,SUGER,BISCUIT'), Row(order_id=15, transaction='COFFEE,SUGER,CORNFLAKES'), Row(order_id=16, transaction='BREAD,SUGER,BOURNVITA'), Row(order_id=17, transaction='BREAD,COFFEE,SUGER'), Row(order_id=18, transaction='BREAD,COFFEE,SUGER'), Row(order_id=19, transaction='TEA,MILK,COFFEE,CORNFLAKES')]\n",
            "\n",
            "Mapped products:\n",
            "\t [('MILK', 1), ('BREAD', 1), ('BISCUIT', 1), ('BREAD', 1), ('MILK', 1), ('BISCUIT', 1), ('CORNFLAKES', 1), ('BREAD', 1), ('TEA', 1), ('BOURNVITA', 1), ('JAM', 1), ('MAGGI', 1), ('BREAD', 1), ('MILK', 1), ('MAGGI', 1), ('TEA', 1), ('BISCUIT', 1), ('BREAD', 1), ('TEA', 1), ('BOURNVITA', 1), ('MAGGI', 1), ('TEA', 1), ('CORNFLAKES', 1), ('MAGGI', 1), ('BREAD', 1), ('TEA', 1), ('BISCUIT', 1), ('JAM', 1), ('MAGGI', 1), ('BREAD', 1), ('TEA', 1), ('BREAD', 1), ('MILK', 1), ('COFFEE', 1), ('COCK', 1), ('BISCUIT', 1), ('CORNFLAKES', 1), ('COFFEE', 1), ('COCK', 1), ('BISCUIT', 1), ('CORNFLAKES', 1), ('COFFEE', 1), ('SUGER', 1), ('BOURNVITA', 1), ('BREAD', 1), ('COFFEE', 1), ('COCK', 1), ('BREAD', 1), ('SUGER', 1), ('BISCUIT', 1), ('COFFEE', 1), ('SUGER', 1), ('CORNFLAKES', 1), ('BREAD', 1), ('SUGER', 1), ('BOURNVITA', 1), ('BREAD', 1), ('COFFEE', 1), ('SUGER', 1), ('BREAD', 1), ('COFFEE', 1), ('SUGER', 1), ('TEA', 1), ('MILK', 1), ('COFFEE', 1), ('CORNFLAKES', 1)]\n",
            "\n",
            "Reduced (merged) products:\n",
            "\t [('MILK', 5), ('BREAD', 13), ('BISCUIT', 7), ('CORNFLAKES', 6), ('TEA', 7), ('BOURNVITA', 4), ('JAM', 2), ('MAGGI', 5), ('COFFEE', 8), ('COCK', 3), ('SUGER', 6)]\n",
            "\n",
            "Visualizing as a dataframe:\n",
            "+----------+-------------+\n",
            "|   product|count_product|\n",
            "+----------+-------------+\n",
            "|      MILK|            5|\n",
            "|     BREAD|           13|\n",
            "|   BISCUIT|            7|\n",
            "|CORNFLAKES|            6|\n",
            "|       TEA|            7|\n",
            "| BOURNVITA|            4|\n",
            "|       JAM|            2|\n",
            "|     MAGGI|            5|\n",
            "|    COFFEE|            8|\n",
            "|      COCK|            3|\n",
            "|     SUGER|            6|\n",
            "+----------+-------------+\n",
            "\n"
          ]
        }
      ],
      "source": [
        "from pyspark.sql import SparkSession\n",
        "from pyspark.sql.functions import monotonically_increasing_id\n",
        "\n",
        "def map_to_product(row):\n",
        "    \"\"\"\n",
        "    Map each transaction into a set of KEY-VALUE elements.\n",
        "    The KEY is the word (product) itself and the VALUE is its number of apparitions.\n",
        "    \"\"\"\n",
        "    products = row.transaction.split(',') # split products from the column transaction\n",
        "    for p in products:\n",
        "        yield (p, 1)\n",
        "\n",
        "def reduce_product_by_key(value1, value2):\n",
        "    \"Reduce the mapped objects to unique words by merging (summing ) their values\"\n",
        "    return value1+value2\n",
        "\n",
        "# Initializates a object of SparkSession class, main entry point to Spark's funcionalites\n",
        "spark = SparkSession.builder.getOrCreate()\n",
        "\n",
        "# Read a grocery dataset\n",
        "grocery = spark.read.csv(ROOT + \"GroceryDataset.csv\") \\\n",
        "              .withColumnRenamed('_c0', 'transaction') \\\n",
        "              .select(\"*\").withColumn(\"order_id\", monotonically_increasing_id())\n",
        "\n",
        "grocery = grocery.select(\"order_id\", \"transaction\")\n",
        "\n",
        "print(\"Grocery dataset\")\n",
        "grocery.show()\n",
        "\n",
        "# Obtain a RDD object to call a map function\n",
        "grocery_rdd = grocery.rdd\n",
        "print(\"Grocery dataframe as a RDD object (list of Row objects):\\n\\t\", grocery_rdd.collect())\n",
        "\n",
        "# Map function to identify all products\n",
        "grocery_rdd = grocery_rdd.flatMap(map_to_product)\n",
        "print(\"\\nMapped products:\\n\\t\", grocery_rdd.collect())\n",
        "\n",
        "# Reduce function to merge values of elements that share the same KEY\n",
        "grocery_rdd = grocery_rdd.reduceByKey(reduce_product_by_key)\n",
        "print(\"\\nReduced (merged) products:\\n\\t\", grocery_rdd.collect())\n",
        "\n",
        "print(\"\\nVisualizing as a dataframe:\")\n",
        "grocery_rdd.toDF([\"product\", \"count_product\"]).show()"
      ]
    },
    {
      "cell_type": "markdown",
      "metadata": {
        "id": "PpJGQmzXMazz"
      },
      "source": [
        "### 1.2 Travailler avec Spark Dataframe / Working with Spark Dataframes\n",
        "\n",
        "Dans l'exemple ci-dessus, nous avons brièvement utilisé une classe Dataframe de Spark, mais uniquement pour obtenir un objet RDD avec ``toy.rdd`` et pour aficher les données sous forme de tableau structuré avec le ``show ()`` une fonction. Cependant, [Dataframe](http://spark.apache.org/docs/latest/api/python/) est une partie cruciale de la version actuelle de Spark et est construit sur l'API RDD. Il s'agit d'une collection distribuée de lignes sous des colonnes nommées, identique à une table dans une base de données relationnelle. Le Dataframe de Spark fonctionne de la même manière que [Pandas](https://pandas.pydata.org/pandas-docs/stable/reference/api/pandas.DataFrame.html). En fait, nous pouvons exporter (obtenir) une Dataframe Spark vers (à partir de) ​​une Dataframe pandas avec la fonction ``toPandas()``  (``spark.createDataFrame``).\n",
        "\n",
        "Une fonctionnalité centrale du Dataframe est de bénéficier du [Spark SQL](https://spark.apache.org/docs/latest/sql-programming-guide.html#sql), un module qui permet des requêtes SQL sur des données structurées. Par exemple, le même « exemple de comptage de produits » aurait pu être implémenté comme une séquence d'opérations SQL sur les données:"
      ]
    },
    {
      "cell_type": "code",
      "execution_count": null,
      "metadata": {
        "colab": {
          "base_uri": "https://localhost:8080/"
        },
        "id": "oFL6BuIDMaz0",
        "outputId": "e8383069-f385-4b38-9e37-43b5a2535644"
      },
      "outputs": [
        {
          "name": "stdout",
          "output_type": "stream",
          "text": [
            "New column 'products': exploding the transaction's products to a new row\n",
            "+--------+--------------------+----------+\n",
            "|order_id|         transaction|  products|\n",
            "+--------+--------------------+----------+\n",
            "|       0|  MILK,BREAD,BISCUIT|      MILK|\n",
            "|       0|  MILK,BREAD,BISCUIT|     BREAD|\n",
            "|       0|  MILK,BREAD,BISCUIT|   BISCUIT|\n",
            "|       1|BREAD,MILK,BISCUI...|     BREAD|\n",
            "|       1|BREAD,MILK,BISCUI...|      MILK|\n",
            "|       1|BREAD,MILK,BISCUI...|   BISCUIT|\n",
            "|       1|BREAD,MILK,BISCUI...|CORNFLAKES|\n",
            "|       2| BREAD,TEA,BOURNVITA|     BREAD|\n",
            "|       2| BREAD,TEA,BOURNVITA|       TEA|\n",
            "|       2| BREAD,TEA,BOURNVITA| BOURNVITA|\n",
            "|       3|JAM,MAGGI,BREAD,MILK|       JAM|\n",
            "|       3|JAM,MAGGI,BREAD,MILK|     MAGGI|\n",
            "|       3|JAM,MAGGI,BREAD,MILK|     BREAD|\n",
            "|       3|JAM,MAGGI,BREAD,MILK|      MILK|\n",
            "|       4|   MAGGI,TEA,BISCUIT|     MAGGI|\n",
            "|       4|   MAGGI,TEA,BISCUIT|       TEA|\n",
            "|       4|   MAGGI,TEA,BISCUIT|   BISCUIT|\n",
            "|       5| BREAD,TEA,BOURNVITA|     BREAD|\n",
            "|       5| BREAD,TEA,BOURNVITA|       TEA|\n",
            "|       5| BREAD,TEA,BOURNVITA| BOURNVITA|\n",
            "+--------+--------------------+----------+\n",
            "only showing top 20 rows\n",
            "\n",
            "Couting unique products:\n",
            "+----------+-------------+\n",
            "|  products|count_product|\n",
            "+----------+-------------+\n",
            "|     BREAD|           13|\n",
            "|    COFFEE|            8|\n",
            "|       TEA|            7|\n",
            "|   BISCUIT|            7|\n",
            "|CORNFLAKES|            6|\n",
            "|     SUGER|            6|\n",
            "|      MILK|            5|\n",
            "|     MAGGI|            5|\n",
            "| BOURNVITA|            4|\n",
            "|      COCK|            3|\n",
            "|       JAM|            2|\n",
            "+----------+-------------+\n",
            "\n"
          ]
        }
      ],
      "source": [
        "import pyspark.sql.functions as f\n",
        "\n",
        "# Creates a new column, products, with all products appering in each transaction\n",
        "print('New column \\'products\\': exploding the transaction\\'s products to a new row')\n",
        "df_grocery = grocery.withColumn('products', f.explode(f.split(grocery.transaction, ',')))\n",
        "df_grocery.show()\n",
        "\n",
        "# Performs a select query and group rows by the product name, aggreagating by counting\n",
        "print('Couting unique products:')\n",
        "df_grocery.select(df_grocery.products)\\\n",
        "      .groupBy(df_grocery.products)\\\n",
        "      .agg(f.count('products').alias('count_product'))\\\n",
        "      .sort('count_product', ascending=False)\\\n",
        "      .show()"
      ]
    },
    {
      "cell_type": "markdown",
      "metadata": {
        "id": "W4HFs8CVMaz3"
      },
      "source": [
        "En outre, les mêmes opérations SQL effectuées ci-dessus auraient pu être effectuées avec une requête en langage SQL traditionnel comme indiqué ci-dessous:"
      ]
    },
    {
      "cell_type": "code",
      "execution_count": null,
      "metadata": {
        "colab": {
          "base_uri": "https://localhost:8080/"
        },
        "id": "O_eYl-7tMaz3",
        "outputId": "e5861bc0-9064-4ff0-f607-dde50bdd4ac5"
      },
      "outputs": [
        {
          "name": "stdout",
          "output_type": "stream",
          "text": [
            "+----------+-------------+\n",
            "|  products|product_count|\n",
            "+----------+-------------+\n",
            "|     BREAD|           13|\n",
            "|    COFFEE|            8|\n",
            "|       TEA|            7|\n",
            "|   BISCUIT|            7|\n",
            "|CORNFLAKES|            6|\n",
            "|     SUGER|            6|\n",
            "|      MILK|            5|\n",
            "|     MAGGI|            5|\n",
            "| BOURNVITA|            4|\n",
            "|      COCK|            3|\n",
            "|       JAM|            2|\n",
            "+----------+-------------+\n",
            "\n"
          ]
        }
      ],
      "source": [
        "# Creates a relational table Grocery in the Spark session\n",
        "df_grocery.createOrReplaceTempView(\"Grocery\")\n",
        "\n",
        "spark.sql(\" SELECT t.products, COUNT(t.products) AS product_count\"\n",
        "          \" FROM Grocery t\"\n",
        "          \" GROUP BY t.products\"\n",
        "          \" ORDER BY product_count DESC\").show()"
      ]
    },
    {
      "cell_type": "markdown",
      "metadata": {
        "id": "MTMT2RlqQBj9"
      },
      "source": [
        "Ces concepts SQL sont mentionnés ici car ils nous seront utiles lors du TP, principalement dans la section 3, pour manipuler les données du supermarché, qui sont structurées en tableaux. Ainsi, si vous n'êtes pas familier avec SQL, il est recommandé de suivre un [tutoriel](https://www.w3schools.com/sql/) pour comprendre les bases."
      ]
    },
    {
      "cell_type": "markdown",
      "metadata": {
        "id": "s1oZzC-ZQEE0"
      },
      "source": [
        "\n",
        "\n",
        "## 2. Algorithme MBA (45 points)\n",
        "Les sections suivantes expliquent comment développer chaque étape de l'algorithme MapReduce pour notre application commerciale. La figure workflow.pdf illustre chaque étape de l'algorithme."
      ]
    },
    {
      "cell_type": "markdown",
      "metadata": {
        "id": "T0Onr2NxMaz8"
      },
      "source": [
        "\n",
        "\n",
        "### 2.1 Map to Patterns (10 points)\n",
        "Pour un sous-ensemble de transactions (c'est-à-dire les lignes de notre grocery dataset), chaque transaction doit être **mappée** vers un ensemble de *motifs d'achat* trouvés dans la transaction. Formellement, ces motifs sont des sous-ensembles de produits qui représentent un groupe d'articles achetés ensemble.\n",
        "\n",
        "Pour le framework MapReduce, chaque motif doit être créé comme un élément *KEY-VALUE*, où la KEY peut prendre la forme d'un singleton, d'une paire ou d'un trio de produits présents dans la transaction. Plus précisément, pour chaque transaction, la fonction de mappage doit générer tous les sous-ensembles **UNIQUE** possibles de taille **UN, DEUX ou TROIS**. La VALEUR associée à chaque KEY est le nombre de fois que la KEY est apparue dans la transaction (si nous supposons qu'aucun produit n'apparaît plus d'une fois dans la transaction, cette valeur est toujours égale à un).\n",
        "\n",
        "Maintenant, implémentez la fonction **map_to_patterns** qui reçoit une transaction (une ligne du dataset) et retourne les motifs trouvés dans la transaction. Les éléments mappés sont un tuple (KEY, VALUE), où KEY est également un tuple de noms de produits. Il est crucial de noter que, puisque chaque entrée (transaction) de la fonction MAP produira **plus** un élément KEY-VALUE, un *flatMap* doit être invoqué pour cette étape. Pour le \"grocery dataset\", la sortie attendue est :\n",
        "\n",
        "<pre style=\"align:center; border:1px solid black;font-size: 8pt; line-height: 1.1; height: auto; width: 20em; padding-left:1px\">\n",
        "<code>\n",
        "+-----------------------------------+-----------+\n",
        "|patterns                           |occurrences|\n",
        "+-----------------------------------+-----------+\n",
        "|('BISCUIT', 'BREAD')               |1          |\n",
        "|('BISCUIT', 'BREAD')               |1          |\n",
        "|('BISCUIT', 'BREAD')               |1          |\n",
        "|('BISCUIT', 'BREAD')               |1          |\n",
        "|('BISCUIT', 'BREAD', 'CORNFLAKES') |1          |\n",
        "|('BISCUIT', 'BREAD', 'MAGGI')      |1          |\n",
        "|('BISCUIT', 'BREAD', 'MILK')       |1          |\n",
        "|('BISCUIT', 'BREAD', 'MILK')       |1          |\n",
        "|('BISCUIT', 'BREAD', 'SUGER')      |1          |\n",
        "|('BISCUIT', 'BREAD', 'TEA')        |1          |\n",
        "|('BISCUIT', 'COCK')                |1          |\n",
        "|('BISCUIT', 'COCK')                |1          |\n",
        "|('BISCUIT', 'COCK', 'COFFEE')      |1          |\n",
        "|('BISCUIT', 'COCK', 'COFFEE')      |1          |\n",
        "|('BISCUIT', 'COCK', 'CORNFLAKES')  |1          |\n",
        "|('BISCUIT', 'COCK', 'CORNFLAKES')  |1          |\n",
        "|('BISCUIT', 'COFFEE')              |1          |\n",
        "|('BISCUIT', 'COFFEE')              |1          |\n",
        "|('BISCUIT', 'COFFEE', 'CORNFLAKES')|1          |\n",
        "|('BISCUIT', 'COFFEE', 'CORNFLAKES')|1          |\n",
        "|('BISCUIT', 'CORNFLAKES')          |1          |\n",
        "|('BISCUIT', 'CORNFLAKES')          |1          |\n",
        "|('BISCUIT', 'CORNFLAKES')          |1          |\n",
        "|('BISCUIT', 'CORNFLAKES', 'MILK')  |1          |\n",
        "|('BISCUIT', 'MAGGI')               |1          |\n",
        "|('BISCUIT', 'MAGGI')               |1          |\n",
        "|('BISCUIT', 'MAGGI', 'TEA')        |1          |\n",
        "|('BISCUIT', 'MAGGI', 'TEA')        |1          |\n",
        "|('BISCUIT', 'MILK')                |1          |\n",
        "|('BISCUIT', 'MILK')                |1          |\n",
        "|('BISCUIT', 'SUGER')               |1          |\n",
        "|('BISCUIT', 'TEA')                 |1          |\n",
        "|('BISCUIT', 'TEA')                 |1          |\n",
        "|('BISCUIT',)                       |1          |\n",
        "|('BISCUIT',)                       |1          |\n",
        "|('BISCUIT',)                       |1          |\n",
        "|('BISCUIT',)                       |1          |\n",
        "|('BISCUIT',)                       |1          |\n",
        "|('BISCUIT',)                       |1          |\n",
        "|('BISCUIT',)                       |1          |\n",
        "|('BOURNVITA', 'BREAD')             |1          |\n",
        "|('BOURNVITA', 'BREAD')             |1          |\n",
        "|('BOURNVITA', 'BREAD')             |1          |\n",
        "|('BOURNVITA', 'BREAD', 'SUGER')    |1          |\n",
        "|('BOURNVITA', 'BREAD', 'TEA')      |1          |\n",
        "|('BOURNVITA', 'BREAD', 'TEA')      |1          |\n",
        "|('BOURNVITA', 'COFFEE')            |1          |\n",
        "|('BOURNVITA', 'COFFEE', 'SUGER')   |1          |\n",
        "|('BOURNVITA', 'SUGER')             |1          |\n",
        "|('BOURNVITA', 'SUGER')             |1          |\n",
        "+-----------------------------------+-----------+\n",
        "</code>\n",
        "</pre>\n",
        "\n",
        "Votre sortie devra ainsi être **exactement** la même, sans quoi aucun point ne pourra vous être attribué pour cette question."
      ]
    },
    {
      "cell_type": "code",
      "execution_count": null,
      "metadata": {
        "colab": {
          "base_uri": "https://localhost:8080/"
        },
        "id": "BscKKDAjMaz9",
        "outputId": "f960ab34-4d84-42eb-c213-46f31543cdae"
      },
      "outputs": [
        {
          "name": "stdout",
          "output_type": "stream",
          "text": [
            "+-----------------------------------+-----------+\n",
            "|patterns                           |occurrences|\n",
            "+-----------------------------------+-----------+\n",
            "|('BISCUIT', 'BREAD')               |1          |\n",
            "|('BISCUIT', 'BREAD')               |1          |\n",
            "|('BISCUIT', 'BREAD')               |1          |\n",
            "|('BISCUIT', 'BREAD')               |1          |\n",
            "|('BISCUIT', 'BREAD', 'CORNFLAKES') |1          |\n",
            "|('BISCUIT', 'BREAD', 'MAGGI')      |1          |\n",
            "|('BISCUIT', 'BREAD', 'MILK')       |1          |\n",
            "|('BISCUIT', 'BREAD', 'MILK')       |1          |\n",
            "|('BISCUIT', 'BREAD', 'SUGER')      |1          |\n",
            "|('BISCUIT', 'BREAD', 'TEA')        |1          |\n",
            "|('BISCUIT', 'COCK')                |1          |\n",
            "|('BISCUIT', 'COCK')                |1          |\n",
            "|('BISCUIT', 'COCK', 'COFFEE')      |1          |\n",
            "|('BISCUIT', 'COCK', 'COFFEE')      |1          |\n",
            "|('BISCUIT', 'COCK', 'CORNFLAKES')  |1          |\n",
            "|('BISCUIT', 'COCK', 'CORNFLAKES')  |1          |\n",
            "|('BISCUIT', 'COFFEE')              |1          |\n",
            "|('BISCUIT', 'COFFEE')              |1          |\n",
            "|('BISCUIT', 'COFFEE', 'CORNFLAKES')|1          |\n",
            "|('BISCUIT', 'COFFEE', 'CORNFLAKES')|1          |\n",
            "|('BISCUIT', 'CORNFLAKES')          |1          |\n",
            "|('BISCUIT', 'CORNFLAKES')          |1          |\n",
            "|('BISCUIT', 'CORNFLAKES')          |1          |\n",
            "|('BISCUIT', 'CORNFLAKES', 'MILK')  |1          |\n",
            "|('BISCUIT', 'MAGGI')               |1          |\n",
            "|('BISCUIT', 'MAGGI')               |1          |\n",
            "|('BISCUIT', 'MAGGI', 'TEA')        |1          |\n",
            "|('BISCUIT', 'MAGGI', 'TEA')        |1          |\n",
            "|('BISCUIT', 'MILK')                |1          |\n",
            "|('BISCUIT', 'MILK')                |1          |\n",
            "|('BISCUIT', 'SUGER')               |1          |\n",
            "|('BISCUIT', 'TEA')                 |1          |\n",
            "|('BISCUIT', 'TEA')                 |1          |\n",
            "|('BISCUIT',)                       |1          |\n",
            "|('BISCUIT',)                       |1          |\n",
            "|('BISCUIT',)                       |1          |\n",
            "|('BISCUIT',)                       |1          |\n",
            "|('BISCUIT',)                       |1          |\n",
            "|('BISCUIT',)                       |1          |\n",
            "|('BISCUIT',)                       |1          |\n",
            "|('BOURNVITA', 'BREAD')             |1          |\n",
            "|('BOURNVITA', 'BREAD')             |1          |\n",
            "|('BOURNVITA', 'BREAD')             |1          |\n",
            "|('BOURNVITA', 'BREAD', 'SUGER')    |1          |\n",
            "|('BOURNVITA', 'BREAD', 'TEA')      |1          |\n",
            "|('BOURNVITA', 'BREAD', 'TEA')      |1          |\n",
            "|('BOURNVITA', 'COFFEE')            |1          |\n",
            "|('BOURNVITA', 'COFFEE', 'SUGER')   |1          |\n",
            "|('BOURNVITA', 'SUGER')             |1          |\n",
            "|('BOURNVITA', 'SUGER')             |1          |\n",
            "+-----------------------------------+-----------+\n",
            "only showing top 50 rows\n",
            "\n"
          ]
        }
      ],
      "source": [
        "from itertools import combinations\n",
        "\n",
        "def format_tuples(pattern):\n",
        "    \"\"\"\n",
        "    Used for visualizition.\n",
        "    Transforms tuples to a string since Dataframe does not support column of tuples with different sizes\n",
        "    (a,b,c) -> '(a,b,c)'\n",
        "    \"\"\"\n",
        "    return (str(pattern[0]), str(pattern[1]))\n",
        "\n",
        "def map_to_patterns(row):\n",
        "    # Split the transaction string by commas and sort the resulting list\n",
        "    transaction = sorted(row.transaction.split(','))\n",
        "\n",
        "    # Generate all possible combinations of the items in the transaction (Sizes 1, 2 and 3)\n",
        "    single = list(combinations(transaction, 1))\n",
        "    pair = list(combinations(transaction, 2))\n",
        "    trio = list(combinations(transaction, 3))\n",
        "\n",
        "    # Combine all the combinations into a single list\n",
        "    pattern_list = single + pair + trio\n",
        "\n",
        "    # Yield each pattern with a count of 1\n",
        "    for p in pattern_list:\n",
        "        yield (p, 1)\n",
        "\n",
        "\n",
        "grocery_rdd = grocery.rdd\n",
        "patterns_rdd = grocery_rdd.flatMap(map_to_patterns)\n",
        "\n",
        "# # Output as dataframe\n",
        "patterns_rdd.map(format_tuples).toDF(['patterns', 'occurrences']).sort(['patterns']).show(50, truncate=False)"
      ]
    },
    {
      "cell_type": "markdown",
      "metadata": {
        "id": "YvvRw0plMa0B"
      },
      "source": [
        "### 2.2  Reduce patterns  (2,5 points)\n",
        "Une fois que différents processeurs ont traité les transactions, une fonction **reduce** doit être appelée pour combiner des KEYS identiques (le sous-ensemble de produits) et calculer le nombre total de ses occurrences dans le dataset. En d'autres termes, cette procédure de réduction doit additionner la *VALUE* de chaque KEY identique.\n",
        "\n",
        "Créez ci-dessous une fonction **reduce_patterns** qui doit additionner la VALUE de chaque motif.\n",
        "Pour le \"grocery dataset\", la sortie attendue est:\n",
        "\n",
        "<pre style=\"align:center; border:1px solid black;font-size: 8pt; line-height: 1.1; height: auto; width: 28em; padding-left:5px\">\n",
        "<code>\n",
        "+-----------------------------------+--------------------+\n",
        "|patterns                           |combined_occurrences|\n",
        "+-----------------------------------+--------------------+\n",
        "|('BISCUIT', 'BREAD')               |4                   |\n",
        "|('BISCUIT', 'BREAD', 'CORNFLAKES') |1                   |\n",
        "|('BISCUIT', 'BREAD', 'MAGGI')      |1                   |\n",
        "|('BISCUIT', 'BREAD', 'MILK')       |2                   |\n",
        "|('BISCUIT', 'BREAD', 'SUGER')      |1                   |\n",
        "|('BISCUIT', 'BREAD', 'TEA')        |1                   |\n",
        "|('BISCUIT', 'COCK')                |2                   |\n",
        "|('BISCUIT', 'COCK', 'COFFEE')      |2                   |\n",
        "|('BISCUIT', 'COCK', 'CORNFLAKES')  |2                   |\n",
        "|('BISCUIT', 'COFFEE')              |2                   |\n",
        "|('BISCUIT', 'COFFEE', 'CORNFLAKES')|2                   |\n",
        "|('BISCUIT', 'CORNFLAKES')          |3                   |\n",
        "|('BISCUIT', 'CORNFLAKES', 'MILK')  |1                   |\n",
        "|('BISCUIT', 'MAGGI')               |2                   |\n",
        "|('BISCUIT', 'MAGGI', 'TEA')        |2                   |\n",
        "|('BISCUIT', 'MILK')                |2                   |\n",
        "|('BISCUIT', 'SUGER')               |1                   |\n",
        "|('BISCUIT', 'TEA')                 |2                   |\n",
        "|('BISCUIT',)                       |7                   |\n",
        "|('BOURNVITA', 'BREAD')             |3                   |\n",
        "|('BOURNVITA', 'BREAD', 'SUGER')    |1                   |\n",
        "|('BOURNVITA', 'BREAD', 'TEA')      |2                   |\n",
        "|('BOURNVITA', 'COFFEE')            |1                   |\n",
        "|('BOURNVITA', 'COFFEE', 'SUGER')   |1                   |\n",
        "|('BOURNVITA', 'SUGER')             |2                   |\n",
        "|('BOURNVITA', 'TEA')               |2                   |\n",
        "|('BOURNVITA',)                     |4                   |\n",
        "|('BREAD', 'COCK')                  |1                   |\n",
        "|('BREAD', 'COCK', 'COFFEE')        |1                   |\n",
        "|('BREAD', 'COFFEE')                |3                   |\n",
        "|('BREAD', 'COFFEE', 'SUGER')       |2                   |\n",
        "|('BREAD', 'CORNFLAKES')            |1                   |\n",
        "|('BREAD', 'CORNFLAKES', 'MILK')    |1                   |\n",
        "|('BREAD', 'JAM')                   |2                   |\n",
        "|('BREAD', 'JAM', 'MAGGI')          |2                   |\n",
        "|('BREAD', 'JAM', 'MILK')           |1                   |\n",
        "|('BREAD', 'JAM', 'TEA')            |1                   |\n",
        "|('BREAD', 'MAGGI')                 |3                   |\n",
        "|('BREAD', 'MAGGI', 'MILK')         |1                   |\n",
        "|('BREAD', 'MAGGI', 'TEA')          |2                   |\n",
        "|('BREAD', 'MILK')                  |4                   |\n",
        "|('BREAD', 'SUGER')                 |4                   |\n",
        "|('BREAD', 'TEA')                   |4                   |\n",
        "|('BREAD',)                         |13                  |\n",
        "|('COCK', 'COFFEE')                 |3                   |\n",
        "|('COCK', 'COFFEE', 'CORNFLAKES')   |2                   |\n",
        "|('COCK', 'CORNFLAKES')             |2                   |\n",
        "|('COCK',)                          |3                   |\n",
        "|('COFFEE', 'CORNFLAKES')           |4                   |\n",
        "|('COFFEE', 'CORNFLAKES', 'MILK')   |1                   |\n",
        "+-----------------------------------+--------------------+\n",
        "</code>\n",
        "</pre>\n",
        "\n",
        "Votre sortie devra ainsi être **exactement** la même, sans quoi aucun point ne pourra vous être attribué pour cette question.\n"
      ]
    },
    {
      "cell_type": "code",
      "execution_count": null,
      "metadata": {
        "colab": {
          "base_uri": "https://localhost:8080/"
        },
        "id": "67IKY_4MMa0C",
        "outputId": "0d5d943d-253e-4a64-8104-16de7db878b5"
      },
      "outputs": [
        {
          "name": "stdout",
          "output_type": "stream",
          "text": [
            "+-----------------------------------+--------------------+\n",
            "|patterns                           |combined_occurrences|\n",
            "+-----------------------------------+--------------------+\n",
            "|('BISCUIT', 'BREAD')               |4                   |\n",
            "|('BISCUIT', 'BREAD', 'CORNFLAKES') |1                   |\n",
            "|('BISCUIT', 'BREAD', 'MAGGI')      |1                   |\n",
            "|('BISCUIT', 'BREAD', 'MILK')       |2                   |\n",
            "|('BISCUIT', 'BREAD', 'SUGER')      |1                   |\n",
            "|('BISCUIT', 'BREAD', 'TEA')        |1                   |\n",
            "|('BISCUIT', 'COCK')                |2                   |\n",
            "|('BISCUIT', 'COCK', 'COFFEE')      |2                   |\n",
            "|('BISCUIT', 'COCK', 'CORNFLAKES')  |2                   |\n",
            "|('BISCUIT', 'COFFEE')              |2                   |\n",
            "|('BISCUIT', 'COFFEE', 'CORNFLAKES')|2                   |\n",
            "|('BISCUIT', 'CORNFLAKES')          |3                   |\n",
            "|('BISCUIT', 'CORNFLAKES', 'MILK')  |1                   |\n",
            "|('BISCUIT', 'MAGGI')               |2                   |\n",
            "|('BISCUIT', 'MAGGI', 'TEA')        |2                   |\n",
            "|('BISCUIT', 'MILK')                |2                   |\n",
            "|('BISCUIT', 'SUGER')               |1                   |\n",
            "|('BISCUIT', 'TEA')                 |2                   |\n",
            "|('BISCUIT',)                       |7                   |\n",
            "|('BOURNVITA', 'BREAD')             |3                   |\n",
            "|('BOURNVITA', 'BREAD', 'SUGER')    |1                   |\n",
            "|('BOURNVITA', 'BREAD', 'TEA')      |2                   |\n",
            "|('BOURNVITA', 'COFFEE')            |1                   |\n",
            "|('BOURNVITA', 'COFFEE', 'SUGER')   |1                   |\n",
            "|('BOURNVITA', 'SUGER')             |2                   |\n",
            "|('BOURNVITA', 'TEA')               |2                   |\n",
            "|('BOURNVITA',)                     |4                   |\n",
            "|('BREAD', 'COCK')                  |1                   |\n",
            "|('BREAD', 'COCK', 'COFFEE')        |1                   |\n",
            "|('BREAD', 'COFFEE')                |3                   |\n",
            "|('BREAD', 'COFFEE', 'SUGER')       |2                   |\n",
            "|('BREAD', 'CORNFLAKES')            |1                   |\n",
            "|('BREAD', 'CORNFLAKES', 'MILK')    |1                   |\n",
            "|('BREAD', 'JAM')                   |2                   |\n",
            "|('BREAD', 'JAM', 'MAGGI')          |2                   |\n",
            "|('BREAD', 'JAM', 'MILK')           |1                   |\n",
            "|('BREAD', 'JAM', 'TEA')            |1                   |\n",
            "|('BREAD', 'MAGGI')                 |3                   |\n",
            "|('BREAD', 'MAGGI', 'MILK')         |1                   |\n",
            "|('BREAD', 'MAGGI', 'TEA')          |2                   |\n",
            "|('BREAD', 'MILK')                  |4                   |\n",
            "|('BREAD', 'SUGER')                 |4                   |\n",
            "|('BREAD', 'TEA')                   |4                   |\n",
            "|('BREAD',)                         |13                  |\n",
            "|('COCK', 'COFFEE')                 |3                   |\n",
            "|('COCK', 'COFFEE', 'CORNFLAKES')   |2                   |\n",
            "|('COCK', 'CORNFLAKES')             |2                   |\n",
            "|('COCK',)                          |3                   |\n",
            "|('COFFEE', 'CORNFLAKES')           |4                   |\n",
            "|('COFFEE', 'CORNFLAKES', 'MILK')   |1                   |\n",
            "+-----------------------------------+--------------------+\n",
            "only showing top 50 rows\n",
            "\n"
          ]
        }
      ],
      "source": [
        "def reduce_patterns(v1, v2):\n",
        "    return v1 + v2\n",
        "\n",
        "combined_patterns_rdd = patterns_rdd.reduceByKey(reduce_patterns)\n",
        "\n",
        "# Output as dataframe\n",
        "combined_patterns_rdd.map(format_tuples).toDF(['patterns', 'combined_occurrences']).sort(['patterns']).show(50, truncate=False)"
      ]
    },
    {
      "cell_type": "markdown",
      "metadata": {
        "id": "6BME1VugMa0F"
      },
      "source": [
        "### 2.3 Map to subpatterns (15 points)\n",
        "Ensuite, une autre fonction **map** doit être appliquée pour générer des sous-motifs. Encore une fois, les sous-motifs sont des éléments KEY-VALUE, où la KEY est également un sous-ensemble de produits. Cependant, la création de la KEY du sous-motif est une procédure différente. Cette fois, l'idée est de décomposer la liste des produits de chaque motif (KEY), de supprimer un produit à la fois et de produire la liste résultante en tant que nouvelle clé de sous-motif.\n",
        "\n",
        "Par exemple, pour un modèle donné $P$ avec trois produits, $p_1, p_2$ et $p_3$, trois nouvelles clés de sous-motifs vont être créées: (i) supprimer $p_1$ et retourner ($p_2, p_3$) ; (ii) supprimer $p_2$ et retourner ($p_1, p_3$); et (iii) supprimer $p_3$ et retourner ($p_1, p_2$).\n",
        "\n",
        "De plus, la structure VALUE du sous-motif sera également différente. Au lieu d'une seule valeur entière unique comme nous l'avons eu dans les motifs, cette fois un *tuple* devrait être créé pour le sous-motif VALUE. Ce tuple contient le produit qui a été retiré lors de la remise de la KEY et le nombre de fois que le motif est apparu. Par exemple ci-dessus, les valeurs doivent être ($p_1,v$), ($p_2,v$) et ($p_3,v $), respectivement, où $v$ est la VALEUR du motif.\n",
        "\n",
        "L'idée derrière les sous-motif est de créer **des règles** telles que : lorsque les produits de KEY ont été achetés, l'article présent dans la VALEUR a également été acheté *v* fois. En outre, chaque motif doit également produire un sous-motif dans lequel la clé est la même liste de produits du motif, mais la valeur est un tuple avec un produit nul (None) et le nombre de fois que le motif est apparu. Cet élément sera utile pour garder une trace du nombre de fois où un tel motif a été trouvé et sera utilisé ultérieurement pour calculer la valeur de confiance lors de la génération des règles d'association.\n",
        "\n",
        "Maintenant, implémentez la fonction **map_to_subpatterns** qui reçoit un motif et produit tous les sous-motif trouvés. Encore une fois, chaque entrée (motif) générera plus d'un élément KEY-VALUE, puis une fonction flatMap doit être appelée.\n",
        "\n",
        "Pour le \"grocery dataset\", la sortie attendue est:\n",
        "\n",
        "<pre style=\"align:center; border:1px solid black;font-size: 8pt; line-height: 1.1; height: auto; width: 20em; padding-left:5px\">\n",
        "<code>\n",
        "+-----------------------------------+-----------------+\n",
        "|subpatterns                        |rules            |\n",
        "+-----------------------------------+-----------------+\n",
        "|('BISCUIT', 'BREAD')               |(None, 4)        |\n",
        "|('BISCUIT', 'BREAD')               |('MILK', 2)      |\n",
        "|('BISCUIT', 'BREAD')               |('CORNFLAKES', 1)|\n",
        "|('BISCUIT', 'BREAD')               |('MAGGI', 1)     |\n",
        "|('BISCUIT', 'BREAD')               |('TEA', 1)       |\n",
        "|('BISCUIT', 'BREAD')               |('SUGER', 1)     |\n",
        "|('BISCUIT', 'BREAD', 'CORNFLAKES') |(None, 1)        |\n",
        "|('BISCUIT', 'BREAD', 'MAGGI')      |(None, 1)        |\n",
        "|('BISCUIT', 'BREAD', 'MILK')       |(None, 2)        |\n",
        "|('BISCUIT', 'BREAD', 'SUGER')      |(None, 1)        |\n",
        "|('BISCUIT', 'BREAD', 'TEA')        |(None, 1)        |\n",
        "|('BISCUIT', 'COCK')                |(None, 2)        |\n",
        "|('BISCUIT', 'COCK')                |('COFFEE', 2)    |\n",
        "|('BISCUIT', 'COCK')                |('CORNFLAKES', 2)|\n",
        "|('BISCUIT', 'COCK', 'COFFEE')      |(None, 2)        |\n",
        "|('BISCUIT', 'COCK', 'CORNFLAKES')  |(None, 2)        |\n",
        "|('BISCUIT', 'COFFEE')              |(None, 2)        |\n",
        "|('BISCUIT', 'COFFEE')              |('COCK', 2)      |\n",
        "|('BISCUIT', 'COFFEE')              |('CORNFLAKES', 2)|\n",
        "|('BISCUIT', 'COFFEE', 'CORNFLAKES')|(None, 2)        |\n",
        "|('BISCUIT', 'CORNFLAKES')          |(None, 3)        |\n",
        "|('BISCUIT', 'CORNFLAKES')          |('BREAD', 1)     |\n",
        "|('BISCUIT', 'CORNFLAKES')          |('MILK', 1)      |\n",
        "|('BISCUIT', 'CORNFLAKES')          |('COCK', 2)      |\n",
        "|('BISCUIT', 'CORNFLAKES')          |('COFFEE', 2)    |\n",
        "|('BISCUIT', 'CORNFLAKES', 'MILK')  |(None, 1)        |\n",
        "|('BISCUIT', 'MAGGI')               |(None, 2)        |\n",
        "|('BISCUIT', 'MAGGI')               |('TEA', 2)       |\n",
        "|('BISCUIT', 'MAGGI')               |('BREAD', 1)     |\n",
        "|('BISCUIT', 'MAGGI', 'TEA')        |(None, 2)        |\n",
        "|('BISCUIT', 'MILK')                |(None, 2)        |\n",
        "|('BISCUIT', 'MILK')                |('BREAD', 2)     |\n",
        "|('BISCUIT', 'MILK')                |('CORNFLAKES', 1)|\n",
        "|('BISCUIT', 'SUGER')               |(None, 1)        |\n",
        "|('BISCUIT', 'SUGER')               |('BREAD', 1)     |\n",
        "|('BISCUIT', 'TEA')                 |(None, 2)        |\n",
        "|('BISCUIT', 'TEA')                 |('MAGGI', 2)     |\n",
        "|('BISCUIT', 'TEA')                 |('BREAD', 1)     |\n",
        "|('BISCUIT',)                       |(None, 7)        |\n",
        "|('BISCUIT',)                       |('BREAD', 4)     |\n",
        "|('BISCUIT',)                       |('MILK', 2)      |\n",
        "|('BISCUIT',)                       |('CORNFLAKES', 3)|\n",
        "|('BISCUIT',)                       |('MAGGI', 2)     |\n",
        "|('BISCUIT',)                       |('TEA', 2)       |\n",
        "|('BISCUIT',)                       |('COCK', 2)      |\n",
        "|('BISCUIT',)                       |('COFFEE', 2)    |\n",
        "|('BISCUIT',)                       |('SUGER', 1)     |\n",
        "|('BOURNVITA', 'BREAD')             |(None, 3)        |\n",
        "|('BOURNVITA', 'BREAD')             |('TEA', 2)       |\n",
        "|('BOURNVITA', 'BREAD')             |('SUGER', 1)     |\n",
        "+-----------------------------------+-----------------+\n",
        "</code>\n",
        "</pre>\n",
        "\n",
        "Votre sortie devra ainsi être **exactement** la même, sans quoi aucun point ne pourra vous être attribué pour cette question."
      ]
    },
    {
      "cell_type": "code",
      "execution_count": null,
      "metadata": {
        "colab": {
          "base_uri": "https://localhost:8080/"
        },
        "id": "t8aLrdMuMa0G",
        "outputId": "720dcf98-dec8-46c4-8835-fd433b804f8d"
      },
      "outputs": [
        {
          "name": "stdout",
          "output_type": "stream",
          "text": [
            "+-----------------------------------+-----------------+\n",
            "|subpatterns                        |rules            |\n",
            "+-----------------------------------+-----------------+\n",
            "|('BISCUIT', 'BREAD')               |(None, 4)        |\n",
            "|('BISCUIT', 'BREAD')               |('MILK', 2)      |\n",
            "|('BISCUIT', 'BREAD')               |('CORNFLAKES', 1)|\n",
            "|('BISCUIT', 'BREAD')               |('MAGGI', 1)     |\n",
            "|('BISCUIT', 'BREAD')               |('TEA', 1)       |\n",
            "|('BISCUIT', 'BREAD')               |('SUGER', 1)     |\n",
            "|('BISCUIT', 'BREAD', 'CORNFLAKES') |(None, 1)        |\n",
            "|('BISCUIT', 'BREAD', 'MAGGI')      |(None, 1)        |\n",
            "|('BISCUIT', 'BREAD', 'MILK')       |(None, 2)        |\n",
            "|('BISCUIT', 'BREAD', 'SUGER')      |(None, 1)        |\n",
            "|('BISCUIT', 'BREAD', 'TEA')        |(None, 1)        |\n",
            "|('BISCUIT', 'COCK')                |(None, 2)        |\n",
            "|('BISCUIT', 'COCK')                |('COFFEE', 2)    |\n",
            "|('BISCUIT', 'COCK')                |('CORNFLAKES', 2)|\n",
            "|('BISCUIT', 'COCK', 'COFFEE')      |(None, 2)        |\n",
            "|('BISCUIT', 'COCK', 'CORNFLAKES')  |(None, 2)        |\n",
            "|('BISCUIT', 'COFFEE')              |(None, 2)        |\n",
            "|('BISCUIT', 'COFFEE')              |('COCK', 2)      |\n",
            "|('BISCUIT', 'COFFEE')              |('CORNFLAKES', 2)|\n",
            "|('BISCUIT', 'COFFEE', 'CORNFLAKES')|(None, 2)        |\n",
            "|('BISCUIT', 'CORNFLAKES')          |(None, 3)        |\n",
            "|('BISCUIT', 'CORNFLAKES')          |('BREAD', 1)     |\n",
            "|('BISCUIT', 'CORNFLAKES')          |('MILK', 1)      |\n",
            "|('BISCUIT', 'CORNFLAKES')          |('COCK', 2)      |\n",
            "|('BISCUIT', 'CORNFLAKES')          |('COFFEE', 2)    |\n",
            "|('BISCUIT', 'CORNFLAKES', 'MILK')  |(None, 1)        |\n",
            "|('BISCUIT', 'MAGGI')               |(None, 2)        |\n",
            "|('BISCUIT', 'MAGGI')               |('TEA', 2)       |\n",
            "|('BISCUIT', 'MAGGI')               |('BREAD', 1)     |\n",
            "|('BISCUIT', 'MAGGI', 'TEA')        |(None, 2)        |\n",
            "|('BISCUIT', 'MILK')                |(None, 2)        |\n",
            "|('BISCUIT', 'MILK')                |('BREAD', 2)     |\n",
            "|('BISCUIT', 'MILK')                |('CORNFLAKES', 1)|\n",
            "|('BISCUIT', 'SUGER')               |(None, 1)        |\n",
            "|('BISCUIT', 'SUGER')               |('BREAD', 1)     |\n",
            "|('BISCUIT', 'TEA')                 |(None, 2)        |\n",
            "|('BISCUIT', 'TEA')                 |('MAGGI', 2)     |\n",
            "|('BISCUIT', 'TEA')                 |('BREAD', 1)     |\n",
            "|('BISCUIT',)                       |(None, 7)        |\n",
            "|('BISCUIT',)                       |('BREAD', 4)     |\n",
            "|('BISCUIT',)                       |('MILK', 2)      |\n",
            "|('BISCUIT',)                       |('CORNFLAKES', 3)|\n",
            "|('BISCUIT',)                       |('MAGGI', 2)     |\n",
            "|('BISCUIT',)                       |('TEA', 2)       |\n",
            "|('BISCUIT',)                       |('COCK', 2)      |\n",
            "|('BISCUIT',)                       |('COFFEE', 2)    |\n",
            "|('BISCUIT',)                       |('SUGER', 1)     |\n",
            "|('BOURNVITA', 'BREAD')             |(None, 3)        |\n",
            "|('BOURNVITA', 'BREAD')             |('TEA', 2)       |\n",
            "|('BOURNVITA', 'BREAD')             |('SUGER', 1)     |\n",
            "+-----------------------------------+-----------------+\n",
            "only showing top 50 rows\n",
            "\n"
          ]
        }
      ],
      "source": [
        "from itertools import combinations\n",
        "\n",
        "def map_to_subpatterns(pattern):\n",
        "\n",
        "    # Generate all possible combinations of the items in the pattern\n",
        "    single = list(combinations(pattern[0], 1))\n",
        "    pair = list(combinations(pattern[0], 2))\n",
        "    trio = list(combinations(pattern[0], 3))\n",
        "\n",
        "    # Combine all the combinations into a single list\n",
        "    combo_list = single + pair + trio\n",
        "    # Filter combinations to keep those that are of length (original pattern length - 1) or more\n",
        "    combo_list_processed = [combo for combo in combo_list if len(combo) >= (len(pattern[0]) - 1)]\n",
        "\n",
        "    # For each subpattern in the filtered list\n",
        "    for subpattern in combo_list_processed:\n",
        "\n",
        "        # Determine the missing elements by subtracting the subpattern set from the original pattern set\n",
        "        missing_elements = set(pattern[0]) - set(subpattern)\n",
        "\n",
        "        # If no elements are missing, set missing_elements to None\n",
        "        if missing_elements == set():\n",
        "            missing_elements = None\n",
        "            yield (subpattern, (None, pattern[1]))\n",
        "\n",
        "        # Otherwise, yield the subpattern along with the missing elements and their count\n",
        "        else:\n",
        "            yield (subpattern, (*missing_elements, pattern[1]))\n",
        "\n",
        "\n",
        "subpatterns_rdd = combined_patterns_rdd.flatMap(map_to_subpatterns)\n",
        "\n",
        "# Output as dataframe\n",
        "subpatterns_rdd.map(format_tuples).toDF(['subpatterns', 'rules']).sort(['subpatterns']).show(50, truncate=False)"
      ]
    },
    {
      "cell_type": "markdown",
      "metadata": {
        "id": "jl6TWh8rMa0J"
      },
      "source": [
        "### 2.4 Reduce Subpatterns (2.5 points)\n",
        "\n",
        "Encore une fois, une fonction **reduce** est nécessaire pour regrouper tous les sous-motif par leur KEY. L'objectif de cette procédure de réduction est de créer une liste de toutes les **règles** apparues dans KEY. Par conséquent, la sortie attendue résultant de cette fonction de réduction est également un élément KEY-VALUE, où la clé est la KEY du sous-motif et la valeur est un groupe contenant toutes les valeurs des sous-motif qui partagent la même clé.\n",
        "\n",
        "Pour le \"grocery dataset\", la sortie attendue est:\n",
        "\n",
        "<pre style=\"align:center; border:1px solid black;font-size: 8pt; line-height: 1.1; height: auto; width: 50em; padding-left:5px\">\n",
        "<code>\n",
        "+-----------------------------------+--------------------------------------------------------------------------------------------------------------------------------------------------------------+\n",
        "|subpatterns                        |combined_rules                                                                                                                                                |\n",
        "+-----------------------------------+--------------------------------------------------------------------------------------------------------------------------------------------------------------+\n",
        "|('BISCUIT', 'BREAD')               |[(None, 4), ('MILK', 2), ('CORNFLAKES', 1), ('MAGGI', 1), ('TEA', 1), ('SUGER', 1)]                                                                           |\n",
        "|('BISCUIT', 'BREAD', 'CORNFLAKES') |[(None, 1)]                                                                                                                                                   |\n",
        "|('BISCUIT', 'BREAD', 'MAGGI')      |[(None, 1)]                                                                                                                                                   |\n",
        "|('BISCUIT', 'BREAD', 'MILK')       |[(None, 2)]                                                                                                                                                   |\n",
        "|('BISCUIT', 'BREAD', 'SUGER')      |[(None, 1)]                                                                                                                                                   |\n",
        "|('BISCUIT', 'BREAD', 'TEA')        |[(None, 1)]                                                                                                                                                   |\n",
        "|('BISCUIT', 'COCK')                |[(None, 2), ('COFFEE', 2), ('CORNFLAKES', 2)]                                                                                                                 |\n",
        "|('BISCUIT', 'COCK', 'COFFEE')      |[(None, 2)]                                                                                                                                                   |\n",
        "|('BISCUIT', 'COCK', 'CORNFLAKES')  |[(None, 2)]                                                                                                                                                   |\n",
        "|('BISCUIT', 'COFFEE')              |[(None, 2), ('COCK', 2), ('CORNFLAKES', 2)]                                                                                                                   |\n",
        "|('BISCUIT', 'COFFEE', 'CORNFLAKES')|[(None, 2)]                                                                                                                                                   |\n",
        "|('BISCUIT', 'CORNFLAKES')          |[(None, 3), ('BREAD', 1), ('MILK', 1), ('COCK', 2), ('COFFEE', 2)]                                                                                            |\n",
        "|('BISCUIT', 'CORNFLAKES', 'MILK')  |[(None, 1)]                                                                                                                                                   |\n",
        "|('BISCUIT', 'MAGGI')               |[(None, 2), ('TEA', 2), ('BREAD', 1)]                                                                                                                         |\n",
        "|('BISCUIT', 'MAGGI', 'TEA')        |[(None, 2)]                                                                                                                                                   |\n",
        "|('BISCUIT', 'MILK')                |[(None, 2), ('BREAD', 2), ('CORNFLAKES', 1)]                                                                                                                  |\n",
        "|('BISCUIT', 'SUGER')               |[(None, 1), ('BREAD', 1)]                                                                                                                                     |\n",
        "|('BISCUIT', 'TEA')                 |[(None, 2), ('MAGGI', 2), ('BREAD', 1)]                                                                                                                       |\n",
        "|('BISCUIT',)                       |[(None, 7), ('BREAD', 4), ('MILK', 2), ('CORNFLAKES', 3), ('MAGGI', 2), ('TEA', 2), ('COCK', 2), ('COFFEE', 2), ('SUGER', 1)]                                 |\n",
        "|('BOURNVITA', 'BREAD')             |[(None, 3), ('TEA', 2), ('SUGER', 1)]                                                                                                                         |\n",
        "|('BOURNVITA', 'BREAD', 'SUGER')    |[(None, 1)]                                                                                                                                                   |\n",
        "|('BOURNVITA', 'BREAD', 'TEA')      |[(None, 2)]                                                                                                                                                   |\n",
        "|('BOURNVITA', 'COFFEE')            |[(None, 1), ('SUGER', 1)]                                                                                                                                     |\n",
        "|('BOURNVITA', 'COFFEE', 'SUGER')   |[(None, 1)]                                                                                                                                                   |\n",
        "|('BOURNVITA', 'SUGER')             |[(None, 2), ('COFFEE', 1), ('BREAD', 1)]                                                                                                                      |\n",
        "|('BOURNVITA', 'TEA')               |[(None, 2), ('BREAD', 2)]                                                                                                                                     |\n",
        "|('BOURNVITA',)                     |[(None, 4), ('BREAD', 3), ('TEA', 2), ('COFFEE', 1), ('SUGER', 2)]                                                                                            |\n",
        "|('BREAD', 'COCK')                  |[(None, 1), ('COFFEE', 1)]                                                                                                                                    |\n",
        "|('BREAD', 'COCK', 'COFFEE')        |[(None, 1)]                                                                                                                                                   |\n",
        "|('BREAD', 'COFFEE')                |[(None, 3), ('COCK', 1), ('SUGER', 2)]                                                                                                                        |\n",
        "|('BREAD', 'COFFEE', 'SUGER')       |[(None, 2)]                                                                                                                                                   |\n",
        "|('BREAD', 'CORNFLAKES')            |[(None, 1), ('BISCUIT', 1), ('MILK', 1)]                                                                                                                      |\n",
        "|('BREAD', 'CORNFLAKES', 'MILK')    |[(None, 1)]                                                                                                                                                   |\n",
        "|('BREAD', 'JAM')                   |[(None, 2), ('MAGGI', 2), ('MILK', 1), ('TEA', 1)]                                                                                                            |\n",
        "|('BREAD', 'JAM', 'MAGGI')          |[(None, 2)]                                                                                                                                                   |\n",
        "|('BREAD', 'JAM', 'MILK')           |[(None, 1)]                                                                                                                                                   |\n",
        "|('BREAD', 'JAM', 'TEA')            |[(None, 1)]                                                                                                                                                   |\n",
        "|('BREAD', 'MAGGI')                 |[(None, 3), ('JAM', 2), ('MILK', 1), ('BISCUIT', 1), ('TEA', 2)]                                                                                              |\n",
        "|('BREAD', 'MAGGI', 'MILK')         |[(None, 1)]                                                                                                                                                   |\n",
        "|('BREAD', 'MAGGI', 'TEA')          |[(None, 2)]                                                                                                                                                   |\n",
        "|('BREAD', 'MILK')                  |[(None, 4), ('BISCUIT', 2), ('CORNFLAKES', 1), ('JAM', 1), ('MAGGI', 1)]                                                                                      |\n",
        "|('BREAD', 'SUGER')                 |[(None, 4), ('BISCUIT', 1), ('BOURNVITA', 1), ('COFFEE', 2)]                                                                                                  |\n",
        "|('BREAD', 'TEA')                   |[(None, 4), ('BOURNVITA', 2), ('BISCUIT', 1), ('MAGGI', 2), ('JAM', 1)]                                                                                       |\n",
        "|('BREAD',)                         |[(None, 13), ('BISCUIT', 4), ('MILK', 4), ('CORNFLAKES', 1), ('BOURNVITA', 3), ('TEA', 4), ('JAM', 2), ('MAGGI', 3), ('COCK', 1), ('COFFEE', 3), ('SUGER', 4)]|\n",
        "|('COCK', 'COFFEE')                 |[(None, 3), ('BISCUIT', 2), ('CORNFLAKES', 2), ('BREAD', 1)]                                                                                                  |\n",
        "|('COCK', 'COFFEE', 'CORNFLAKES')   |[(None, 2)]                                                                                                                                                   |\n",
        "|('COCK', 'CORNFLAKES')             |[(None, 2), ('BISCUIT', 2), ('COFFEE', 2)]                                                                                                                    |\n",
        "|('COCK',)                          |[(None, 3), ('BISCUIT', 2), ('COFFEE', 3), ('CORNFLAKES', 2), ('BREAD', 1)]                                                                                   |\n",
        "|('COFFEE', 'CORNFLAKES')           |[(None, 4), ('BISCUIT', 2), ('COCK', 2), ('SUGER', 1), ('MILK', 1), ('TEA', 1)]                                                                               |\n",
        "|('COFFEE', 'CORNFLAKES', 'MILK')   |[(None, 1)]                                                                                                                                                   |\n",
        "+-----------------------------------+--------------------------------------------------------------------------------------------------------------------------------------------------------------+\n",
        "</code>\n",
        "</pre>\n",
        "\n",
        "Votre sortie devra ainsi être **exactement** la même, sans quoi aucun point ne pourra vous être attribué pour cette question.\n"
      ]
    },
    {
      "cell_type": "code",
      "execution_count": null,
      "metadata": {
        "colab": {
          "base_uri": "https://localhost:8080/"
        },
        "id": "LOP-SVIhMa0J",
        "outputId": "a4465ac4-5010-4502-8402-f8f5ab279296"
      },
      "outputs": [
        {
          "name": "stdout",
          "output_type": "stream",
          "text": [
            "+-----------------------------------+--------------------------------------------------------------------------------------------------------------------------------------------------------------+\n",
            "|subpatterns                        |combined_rules                                                                                                                                                |\n",
            "+-----------------------------------+--------------------------------------------------------------------------------------------------------------------------------------------------------------+\n",
            "|('BISCUIT', 'BREAD')               |[(None, 4), ('MILK', 2), ('CORNFLAKES', 1), ('MAGGI', 1), ('TEA', 1), ('SUGER', 1)]                                                                           |\n",
            "|('BISCUIT', 'BREAD', 'CORNFLAKES') |[(None, 1)]                                                                                                                                                   |\n",
            "|('BISCUIT', 'BREAD', 'MAGGI')      |[(None, 1)]                                                                                                                                                   |\n",
            "|('BISCUIT', 'BREAD', 'MILK')       |[(None, 2)]                                                                                                                                                   |\n",
            "|('BISCUIT', 'BREAD', 'SUGER')      |[(None, 1)]                                                                                                                                                   |\n",
            "|('BISCUIT', 'BREAD', 'TEA')        |[(None, 1)]                                                                                                                                                   |\n",
            "|('BISCUIT', 'COCK')                |[(None, 2), ('COFFEE', 2), ('CORNFLAKES', 2)]                                                                                                                 |\n",
            "|('BISCUIT', 'COCK', 'COFFEE')      |[(None, 2)]                                                                                                                                                   |\n",
            "|('BISCUIT', 'COCK', 'CORNFLAKES')  |[(None, 2)]                                                                                                                                                   |\n",
            "|('BISCUIT', 'COFFEE')              |[(None, 2), ('COCK', 2), ('CORNFLAKES', 2)]                                                                                                                   |\n",
            "|('BISCUIT', 'COFFEE', 'CORNFLAKES')|[(None, 2)]                                                                                                                                                   |\n",
            "|('BISCUIT', 'CORNFLAKES')          |[(None, 3), ('BREAD', 1), ('MILK', 1), ('COCK', 2), ('COFFEE', 2)]                                                                                            |\n",
            "|('BISCUIT', 'CORNFLAKES', 'MILK')  |[(None, 1)]                                                                                                                                                   |\n",
            "|('BISCUIT', 'MAGGI')               |[(None, 2), ('TEA', 2), ('BREAD', 1)]                                                                                                                         |\n",
            "|('BISCUIT', 'MAGGI', 'TEA')        |[(None, 2)]                                                                                                                                                   |\n",
            "|('BISCUIT', 'MILK')                |[(None, 2), ('BREAD', 2), ('CORNFLAKES', 1)]                                                                                                                  |\n",
            "|('BISCUIT', 'SUGER')               |[(None, 1), ('BREAD', 1)]                                                                                                                                     |\n",
            "|('BISCUIT', 'TEA')                 |[(None, 2), ('MAGGI', 2), ('BREAD', 1)]                                                                                                                       |\n",
            "|('BISCUIT',)                       |[(None, 7), ('BREAD', 4), ('MILK', 2), ('CORNFLAKES', 3), ('MAGGI', 2), ('TEA', 2), ('COCK', 2), ('COFFEE', 2), ('SUGER', 1)]                                 |\n",
            "|('BOURNVITA', 'BREAD')             |[(None, 3), ('TEA', 2), ('SUGER', 1)]                                                                                                                         |\n",
            "|('BOURNVITA', 'BREAD', 'SUGER')    |[(None, 1)]                                                                                                                                                   |\n",
            "|('BOURNVITA', 'BREAD', 'TEA')      |[(None, 2)]                                                                                                                                                   |\n",
            "|('BOURNVITA', 'COFFEE')            |[(None, 1), ('SUGER', 1)]                                                                                                                                     |\n",
            "|('BOURNVITA', 'COFFEE', 'SUGER')   |[(None, 1)]                                                                                                                                                   |\n",
            "|('BOURNVITA', 'SUGER')             |[(None, 2), ('COFFEE', 1), ('BREAD', 1)]                                                                                                                      |\n",
            "|('BOURNVITA', 'TEA')               |[(None, 2), ('BREAD', 2)]                                                                                                                                     |\n",
            "|('BOURNVITA',)                     |[(None, 4), ('BREAD', 3), ('TEA', 2), ('COFFEE', 1), ('SUGER', 2)]                                                                                            |\n",
            "|('BREAD', 'COCK')                  |[(None, 1), ('COFFEE', 1)]                                                                                                                                    |\n",
            "|('BREAD', 'COCK', 'COFFEE')        |[(None, 1)]                                                                                                                                                   |\n",
            "|('BREAD', 'COFFEE')                |[(None, 3), ('COCK', 1), ('SUGER', 2)]                                                                                                                        |\n",
            "|('BREAD', 'COFFEE', 'SUGER')       |[(None, 2)]                                                                                                                                                   |\n",
            "|('BREAD', 'CORNFLAKES')            |[(None, 1), ('BISCUIT', 1), ('MILK', 1)]                                                                                                                      |\n",
            "|('BREAD', 'CORNFLAKES', 'MILK')    |[(None, 1)]                                                                                                                                                   |\n",
            "|('BREAD', 'JAM')                   |[(None, 2), ('MAGGI', 2), ('MILK', 1), ('TEA', 1)]                                                                                                            |\n",
            "|('BREAD', 'JAM', 'MAGGI')          |[(None, 2)]                                                                                                                                                   |\n",
            "|('BREAD', 'JAM', 'MILK')           |[(None, 1)]                                                                                                                                                   |\n",
            "|('BREAD', 'JAM', 'TEA')            |[(None, 1)]                                                                                                                                                   |\n",
            "|('BREAD', 'MAGGI')                 |[(None, 3), ('JAM', 2), ('MILK', 1), ('BISCUIT', 1), ('TEA', 2)]                                                                                              |\n",
            "|('BREAD', 'MAGGI', 'MILK')         |[(None, 1)]                                                                                                                                                   |\n",
            "|('BREAD', 'MAGGI', 'TEA')          |[(None, 2)]                                                                                                                                                   |\n",
            "|('BREAD', 'MILK')                  |[(None, 4), ('BISCUIT', 2), ('CORNFLAKES', 1), ('JAM', 1), ('MAGGI', 1)]                                                                                      |\n",
            "|('BREAD', 'SUGER')                 |[(None, 4), ('BISCUIT', 1), ('BOURNVITA', 1), ('COFFEE', 2)]                                                                                                  |\n",
            "|('BREAD', 'TEA')                   |[(None, 4), ('BOURNVITA', 2), ('BISCUIT', 1), ('MAGGI', 2), ('JAM', 1)]                                                                                       |\n",
            "|('BREAD',)                         |[(None, 13), ('BISCUIT', 4), ('MILK', 4), ('CORNFLAKES', 1), ('BOURNVITA', 3), ('TEA', 4), ('JAM', 2), ('MAGGI', 3), ('COCK', 1), ('COFFEE', 3), ('SUGER', 4)]|\n",
            "|('COCK', 'COFFEE')                 |[(None, 3), ('BISCUIT', 2), ('CORNFLAKES', 2), ('BREAD', 1)]                                                                                                  |\n",
            "|('COCK', 'COFFEE', 'CORNFLAKES')   |[(None, 2)]                                                                                                                                                   |\n",
            "|('COCK', 'CORNFLAKES')             |[(None, 2), ('BISCUIT', 2), ('COFFEE', 2)]                                                                                                                    |\n",
            "|('COCK',)                          |[(None, 3), ('BISCUIT', 2), ('COFFEE', 3), ('CORNFLAKES', 2), ('BREAD', 1)]                                                                                   |\n",
            "|('COFFEE', 'CORNFLAKES')           |[(None, 4), ('BISCUIT', 2), ('COCK', 2), ('SUGER', 1), ('MILK', 1), ('TEA', 1)]                                                                               |\n",
            "|('COFFEE', 'CORNFLAKES', 'MILK')   |[(None, 1)]                                                                                                                                                   |\n",
            "+-----------------------------------+--------------------------------------------------------------------------------------------------------------------------------------------------------------+\n",
            "only showing top 50 rows\n",
            "\n"
          ]
        }
      ],
      "source": [
        "# Group the subpatterns RDD by key (the subpatterns themselves) and convert the grouped values to a list.\n",
        "# This results in an RDD where each key is a subpattern and the value is a list of tuples containing\n",
        "# the missing elements and the count associated with the original patterns.\n",
        "combined_rules = subpatterns_rdd.groupByKey().mapValues(list)\n",
        "\n",
        "# Output as dataframe\n",
        "combined_rules.map(format_tuples).toDF(['subpatterns', 'combined_rules']).sort(['subpatterns']).show(50, truncate=False)"
      ]
    },
    {
      "cell_type": "markdown",
      "metadata": {
        "id": "Uh69x3a8Ma0P"
      },
      "source": [
        "### 2.5. Map to Association Rules (15 points)\n",
        "\n",
        "Enfin, la dernière étape de l'algorithme consiste à créer les règles d'association pour effectuer la MBA. Le but de cette fonction Map est de calculer le niveau **de confiance** de l'achat d'un produit, sachant qu'il y a déjà un ensemble de produits dans le panier. Ainsi, la KEY du sous-motif est l'ensemble des produits placés dans le panier et, pour chaque produit présent dans la liste des règles, c'est-à-dire dans la VALEUR, la confiance peut être calculée comme :\n",
        "\n",
        "\\begin{align*}\n",
        "\\frac{\\text{nombre de fois où le produit a été acheté avec KEY}}{\\text{nombre de fois où la KEY est apparue}}\n",
        "\\end{align*}\n",
        "\n",
        "Pour l'exemple donné dans la figure \"workflow\", *le café* a été acheté 20 fois et, dans 17 d'entre eux, le *lait* a été acheté ensemble. Ensuite, le niveau de confiance pour acheter du *lait* sachant que *le café* est dans le panier est $\\frac{17}{20}=0,85$, ce qui signifie que dans 85% des cas où le café a été acheté, le lait a aussi été acheté.\n",
        "\n",
        "Implémentez la fonction **map_to_assoc_rules** qui calcule le niveau de confiance pour chaque sous-motif.\n",
        "\n",
        "Pour le \"grocery dataset\", la sortie attendue est:\n",
        "\n",
        "<pre style=\"align:center; border:1px solid black;font-size: 8pt; line-height: 1.1; height: auto; width: 57em; padding-left:5px\">\n",
        "<code>\n",
        "+-----------------------------------+----------------------------------------------------------------------------------------------------------------------------------------------------------------------------------------------------------------------------------------------------------------------------------------------------------------------------------+\n",
        "|patterns                           |association_rules                                                                                                                                                                                                                                                                                                                 |\n",
        "+-----------------------------------+----------------------------------------------------------------------------------------------------------------------------------------------------------------------------------------------------------------------------------------------------------------------------------------------------------------------------------+\n",
        "|('BISCUIT', 'BREAD')               |[('MILK', 0.5), ('CORNFLAKES', 0.25), ('MAGGI', 0.25), ('TEA', 0.25), ('SUGER', 0.25)]                                                                                                                                                                                                                                            |\n",
        "|('BISCUIT', 'BREAD', 'CORNFLAKES') |[]                                                                                                                                                                                                                                                                                                                                |\n",
        "|('BISCUIT', 'BREAD', 'MAGGI')      |[]                                                                                                                                                                                                                                                                                                                                |\n",
        "|('BISCUIT', 'BREAD', 'MILK')       |[]                                                                                                                                                                                                                                                                                                                                |\n",
        "|('BISCUIT', 'BREAD', 'SUGER')      |[]                                                                                                                                                                                                                                                                                                                                |\n",
        "|('BISCUIT', 'BREAD', 'TEA')        |[]                                                                                                                                                                                                                                                                                                                                |\n",
        "|('BISCUIT', 'COCK')                |[('COFFEE', 1.0), ('CORNFLAKES', 1.0)]                                                                                                                                                                                                                                                                                            |\n",
        "|('BISCUIT', 'COCK', 'COFFEE')      |[]                                                                                                                                                                                                                                                                                                                                |\n",
        "|('BISCUIT', 'COCK', 'CORNFLAKES')  |[]                                                                                                                                                                                                                                                                                                                                |\n",
        "|('BISCUIT', 'COFFEE')              |[('COCK', 1.0), ('CORNFLAKES', 1.0)]                                                                                                                                                                                                                                                                                              |\n",
        "|('BISCUIT', 'COFFEE', 'CORNFLAKES')|[]                                                                                                                                                                                                                                                                                                                                |\n",
        "|('BISCUIT', 'CORNFLAKES')          |[('BREAD', 0.3333333333333333), ('MILK', 0.3333333333333333), ('COCK', 0.6666666666666666), ('COFFEE', 0.6666666666666666)]                                                                                                                                                                                                       |\n",
        "|('BISCUIT', 'CORNFLAKES', 'MILK')  |[]                                                                                                                                                                                                                                                                                                                                |\n",
        "|('BISCUIT', 'MAGGI')               |[('TEA', 1.0), ('BREAD', 0.5)]                                                                                                                                                                                                                                                                                                    |\n",
        "|('BISCUIT', 'MAGGI', 'TEA')        |[]                                                                                                                                                                                                                                                                                                                                |\n",
        "|('BISCUIT', 'MILK')                |[('BREAD', 1.0), ('CORNFLAKES', 0.5)]                                                                                                                                                                                                                                                                                             |\n",
        "|('BISCUIT', 'SUGER')               |[('BREAD', 1.0)]                                                                                                                                                                                                                                                                                                                  |\n",
        "|('BISCUIT', 'TEA')                 |[('MAGGI', 1.0), ('BREAD', 0.5)]                                                                                                                                                                                                                                                                                                  |\n",
        "|('BISCUIT',)                       |[('BREAD', 0.5714285714285714), ('MILK', 0.2857142857142857), ('CORNFLAKES', 0.42857142857142855), ('MAGGI', 0.2857142857142857), ('TEA', 0.2857142857142857), ('COCK', 0.2857142857142857), ('COFFEE', 0.2857142857142857), ('SUGER', 0.14285714285714285)]                                                                      |\n",
        "|('BOURNVITA', 'BREAD')             |[('TEA', 0.6666666666666666), ('SUGER', 0.3333333333333333)]                                                                                                                                                                                                                                                                      |\n",
        "|('BOURNVITA', 'BREAD', 'SUGER')    |[]                                                                                                                                                                                                                                                                                                                                |\n",
        "|('BOURNVITA', 'BREAD', 'TEA')      |[]                                                                                                                                                                                                                                                                                                                                |\n",
        "|('BOURNVITA', 'COFFEE')            |[('SUGER', 1.0)]                                                                                                                                                                                                                                                                                                                  |\n",
        "|('BOURNVITA', 'COFFEE', 'SUGER')   |[]                                                                                                                                                                                                                                                                                                                                |\n",
        "|('BOURNVITA', 'SUGER')             |[('COFFEE', 0.5), ('BREAD', 0.5)]                                                                                                                                                                                                                                                                                                 |\n",
        "|('BOURNVITA', 'TEA')               |[('BREAD', 1.0)]                                                                                                                                                                                                                                                                                                                  |\n",
        "|('BOURNVITA',)                     |[('BREAD', 0.75), ('TEA', 0.5), ('COFFEE', 0.25), ('SUGER', 0.5)]                                                                                                                                                                                                                                                                 |\n",
        "|('BREAD', 'COCK')                  |[('COFFEE', 1.0)]                                                                                                                                                                                                                                                                                                                 |\n",
        "|('BREAD', 'COCK', 'COFFEE')        |[]                                                                                                                                                                                                                                                                                                                                |\n",
        "|('BREAD', 'COFFEE')                |[('COCK', 0.3333333333333333), ('SUGER', 0.6666666666666666)]                                                                                                                                                                                                                                                                     |\n",
        "|('BREAD', 'COFFEE', 'SUGER')       |[]                                                                                                                                                                                                                                                                                                                                |\n",
        "|('BREAD', 'CORNFLAKES')            |[('BISCUIT', 1.0), ('MILK', 1.0)]                                                                                                                                                                                                                                                                                                 |\n",
        "|('BREAD', 'CORNFLAKES', 'MILK')    |[]                                                                                                                                                                                                                                                                                                                                |\n",
        "|('BREAD', 'JAM')                   |[('MAGGI', 1.0), ('MILK', 0.5), ('TEA', 0.5)]                                                                                                                                                                                                                                                                                     |\n",
        "|('BREAD', 'JAM', 'MAGGI')          |[]                                                                                                                                                                                                                                                                                                                                |\n",
        "|('BREAD', 'JAM', 'MILK')           |[]                                                                                                                                                                                                                                                                                                                                |\n",
        "|('BREAD', 'JAM', 'TEA')            |[]                                                                                                                                                                                                                                                                                                                                |\n",
        "|('BREAD', 'MAGGI')                 |[('JAM', 0.6666666666666666), ('MILK', 0.3333333333333333), ('BISCUIT', 0.3333333333333333), ('TEA', 0.6666666666666666)]                                                                                                                                                                                                         |\n",
        "|('BREAD', 'MAGGI', 'MILK')         |[]                                                                                                                                                                                                                                                                                                                                |\n",
        "|('BREAD', 'MAGGI', 'TEA')          |[]                                                                                                                                                                                                                                                                                                                                |\n",
        "|('BREAD', 'MILK')                  |[('BISCUIT', 0.5), ('CORNFLAKES', 0.25), ('JAM', 0.25), ('MAGGI', 0.25)]                                                                                                                                                                                                                                                          |\n",
        "|('BREAD', 'SUGER')                 |[('BISCUIT', 0.25), ('BOURNVITA', 0.25), ('COFFEE', 0.5)]                                                                                                                                                                                                                                                                         |\n",
        "|('BREAD', 'TEA')                   |[('BOURNVITA', 0.5), ('BISCUIT', 0.25), ('MAGGI', 0.5), ('JAM', 0.25)]                                                                                                                                                                                                                                                            |\n",
        "|('BREAD',)                         |[('BISCUIT', 0.3076923076923077), ('MILK', 0.3076923076923077), ('CORNFLAKES', 0.07692307692307693), ('BOURNVITA', 0.23076923076923078), ('TEA', 0.3076923076923077), ('JAM', 0.15384615384615385), ('MAGGI', 0.23076923076923078), ('COCK', 0.07692307692307693), ('COFFEE', 0.23076923076923078), ('SUGER', 0.3076923076923077)]|\n",
        "|('COCK', 'COFFEE')                 |[('BISCUIT', 0.6666666666666666), ('CORNFLAKES', 0.6666666666666666), ('BREAD', 0.3333333333333333)]                                                                                                                                                                                                                              |\n",
        "|('COCK', 'COFFEE', 'CORNFLAKES')   |[]                                                                                                                                                                                                                                                                                                                                |\n",
        "|('COCK', 'CORNFLAKES')             |[('BISCUIT', 1.0), ('COFFEE', 1.0)]                                                                                                                                                                                                                                                                                               |\n",
        "|('COCK',)                          |[('BISCUIT', 0.6666666666666666), ('COFFEE', 1.0), ('CORNFLAKES', 0.6666666666666666), ('BREAD', 0.3333333333333333)]                                                                                                                                                                                                             |\n",
        "|('COFFEE', 'CORNFLAKES')           |[('BISCUIT', 0.5), ('COCK', 0.5), ('SUGER', 0.25), ('MILK', 0.25), ('TEA', 0.25)]                                                                                                                                                                                                                                                 |\n",
        "|('COFFEE', 'CORNFLAKES', 'MILK')   |[]                                                                                                                                                                                                                                                                                                                                |\n",
        "+-----------------------------------+----------------------------------------------------------------------------------------------------------------------------------------------------------------------------------------------------------------------------------------------------------------------------------------------------------------------------------+\n",
        "\n",
        "</code>\n",
        "</pre>\n",
        "\n",
        "Votre sortie devra ainsi être **exactement** la même, sans quoi aucun point ne pourra vous être attribué pour cette question."
      ]
    },
    {
      "cell_type": "code",
      "execution_count": null,
      "metadata": {
        "colab": {
          "base_uri": "https://localhost:8080/"
        },
        "id": "DPrbn5CfMa0P",
        "outputId": "9fc75a53-38ac-45d6-96c9-5bdc2a690e4a"
      },
      "outputs": [
        {
          "name": "stdout",
          "output_type": "stream",
          "text": [
            "+-----------------------------------+----------------------------------------------------------------------------------------------------------------------------------------------------------------------------------------------------------------------------------------------------------------------------------------------------------------------------------+\n",
            "|patterns                           |association_rules                                                                                                                                                                                                                                                                                                                 |\n",
            "+-----------------------------------+----------------------------------------------------------------------------------------------------------------------------------------------------------------------------------------------------------------------------------------------------------------------------------------------------------------------------------+\n",
            "|('BISCUIT', 'BREAD')               |[('MILK', 0.5), ('CORNFLAKES', 0.25), ('MAGGI', 0.25), ('TEA', 0.25), ('SUGER', 0.25)]                                                                                                                                                                                                                                            |\n",
            "|('BISCUIT', 'BREAD', 'CORNFLAKES') |[]                                                                                                                                                                                                                                                                                                                                |\n",
            "|('BISCUIT', 'BREAD', 'MAGGI')      |[]                                                                                                                                                                                                                                                                                                                                |\n",
            "|('BISCUIT', 'BREAD', 'MILK')       |[]                                                                                                                                                                                                                                                                                                                                |\n",
            "|('BISCUIT', 'BREAD', 'SUGER')      |[]                                                                                                                                                                                                                                                                                                                                |\n",
            "|('BISCUIT', 'BREAD', 'TEA')        |[]                                                                                                                                                                                                                                                                                                                                |\n",
            "|('BISCUIT', 'COCK')                |[('COFFEE', 1.0), ('CORNFLAKES', 1.0)]                                                                                                                                                                                                                                                                                            |\n",
            "|('BISCUIT', 'COCK', 'COFFEE')      |[]                                                                                                                                                                                                                                                                                                                                |\n",
            "|('BISCUIT', 'COCK', 'CORNFLAKES')  |[]                                                                                                                                                                                                                                                                                                                                |\n",
            "|('BISCUIT', 'COFFEE')              |[('COCK', 1.0), ('CORNFLAKES', 1.0)]                                                                                                                                                                                                                                                                                              |\n",
            "|('BISCUIT', 'COFFEE', 'CORNFLAKES')|[]                                                                                                                                                                                                                                                                                                                                |\n",
            "|('BISCUIT', 'CORNFLAKES')          |[('BREAD', 0.3333333333333333), ('MILK', 0.3333333333333333), ('COCK', 0.6666666666666666), ('COFFEE', 0.6666666666666666)]                                                                                                                                                                                                       |\n",
            "|('BISCUIT', 'CORNFLAKES', 'MILK')  |[]                                                                                                                                                                                                                                                                                                                                |\n",
            "|('BISCUIT', 'MAGGI')               |[('TEA', 1.0), ('BREAD', 0.5)]                                                                                                                                                                                                                                                                                                    |\n",
            "|('BISCUIT', 'MAGGI', 'TEA')        |[]                                                                                                                                                                                                                                                                                                                                |\n",
            "|('BISCUIT', 'MILK')                |[('BREAD', 1.0), ('CORNFLAKES', 0.5)]                                                                                                                                                                                                                                                                                             |\n",
            "|('BISCUIT', 'SUGER')               |[('BREAD', 1.0)]                                                                                                                                                                                                                                                                                                                  |\n",
            "|('BISCUIT', 'TEA')                 |[('MAGGI', 1.0), ('BREAD', 0.5)]                                                                                                                                                                                                                                                                                                  |\n",
            "|('BISCUIT',)                       |[('BREAD', 0.5714285714285714), ('MILK', 0.2857142857142857), ('CORNFLAKES', 0.42857142857142855), ('MAGGI', 0.2857142857142857), ('TEA', 0.2857142857142857), ('COCK', 0.2857142857142857), ('COFFEE', 0.2857142857142857), ('SUGER', 0.14285714285714285)]                                                                      |\n",
            "|('BOURNVITA', 'BREAD')             |[('TEA', 0.6666666666666666), ('SUGER', 0.3333333333333333)]                                                                                                                                                                                                                                                                      |\n",
            "|('BOURNVITA', 'BREAD', 'SUGER')    |[]                                                                                                                                                                                                                                                                                                                                |\n",
            "|('BOURNVITA', 'BREAD', 'TEA')      |[]                                                                                                                                                                                                                                                                                                                                |\n",
            "|('BOURNVITA', 'COFFEE')            |[('SUGER', 1.0)]                                                                                                                                                                                                                                                                                                                  |\n",
            "|('BOURNVITA', 'COFFEE', 'SUGER')   |[]                                                                                                                                                                                                                                                                                                                                |\n",
            "|('BOURNVITA', 'SUGER')             |[('COFFEE', 0.5), ('BREAD', 0.5)]                                                                                                                                                                                                                                                                                                 |\n",
            "|('BOURNVITA', 'TEA')               |[('BREAD', 1.0)]                                                                                                                                                                                                                                                                                                                  |\n",
            "|('BOURNVITA',)                     |[('BREAD', 0.75), ('TEA', 0.5), ('COFFEE', 0.25), ('SUGER', 0.5)]                                                                                                                                                                                                                                                                 |\n",
            "|('BREAD', 'COCK')                  |[('COFFEE', 1.0)]                                                                                                                                                                                                                                                                                                                 |\n",
            "|('BREAD', 'COCK', 'COFFEE')        |[]                                                                                                                                                                                                                                                                                                                                |\n",
            "|('BREAD', 'COFFEE')                |[('COCK', 0.3333333333333333), ('SUGER', 0.6666666666666666)]                                                                                                                                                                                                                                                                     |\n",
            "|('BREAD', 'COFFEE', 'SUGER')       |[]                                                                                                                                                                                                                                                                                                                                |\n",
            "|('BREAD', 'CORNFLAKES')            |[('BISCUIT', 1.0), ('MILK', 1.0)]                                                                                                                                                                                                                                                                                                 |\n",
            "|('BREAD', 'CORNFLAKES', 'MILK')    |[]                                                                                                                                                                                                                                                                                                                                |\n",
            "|('BREAD', 'JAM')                   |[('MAGGI', 1.0), ('MILK', 0.5), ('TEA', 0.5)]                                                                                                                                                                                                                                                                                     |\n",
            "|('BREAD', 'JAM', 'MAGGI')          |[]                                                                                                                                                                                                                                                                                                                                |\n",
            "|('BREAD', 'JAM', 'MILK')           |[]                                                                                                                                                                                                                                                                                                                                |\n",
            "|('BREAD', 'JAM', 'TEA')            |[]                                                                                                                                                                                                                                                                                                                                |\n",
            "|('BREAD', 'MAGGI')                 |[('JAM', 0.6666666666666666), ('MILK', 0.3333333333333333), ('BISCUIT', 0.3333333333333333), ('TEA', 0.6666666666666666)]                                                                                                                                                                                                         |\n",
            "|('BREAD', 'MAGGI', 'MILK')         |[]                                                                                                                                                                                                                                                                                                                                |\n",
            "|('BREAD', 'MAGGI', 'TEA')          |[]                                                                                                                                                                                                                                                                                                                                |\n",
            "|('BREAD', 'MILK')                  |[('BISCUIT', 0.5), ('CORNFLAKES', 0.25), ('JAM', 0.25), ('MAGGI', 0.25)]                                                                                                                                                                                                                                                          |\n",
            "|('BREAD', 'SUGER')                 |[('BISCUIT', 0.25), ('BOURNVITA', 0.25), ('COFFEE', 0.5)]                                                                                                                                                                                                                                                                         |\n",
            "|('BREAD', 'TEA')                   |[('BOURNVITA', 0.5), ('BISCUIT', 0.25), ('MAGGI', 0.5), ('JAM', 0.25)]                                                                                                                                                                                                                                                            |\n",
            "|('BREAD',)                         |[('BISCUIT', 0.3076923076923077), ('MILK', 0.3076923076923077), ('CORNFLAKES', 0.07692307692307693), ('BOURNVITA', 0.23076923076923078), ('TEA', 0.3076923076923077), ('JAM', 0.15384615384615385), ('MAGGI', 0.23076923076923078), ('COCK', 0.07692307692307693), ('COFFEE', 0.23076923076923078), ('SUGER', 0.3076923076923077)]|\n",
            "|('COCK', 'COFFEE')                 |[('BISCUIT', 0.6666666666666666), ('CORNFLAKES', 0.6666666666666666), ('BREAD', 0.3333333333333333)]                                                                                                                                                                                                                              |\n",
            "|('COCK', 'COFFEE', 'CORNFLAKES')   |[]                                                                                                                                                                                                                                                                                                                                |\n",
            "|('COCK', 'CORNFLAKES')             |[('BISCUIT', 1.0), ('COFFEE', 1.0)]                                                                                                                                                                                                                                                                                               |\n",
            "|('COCK',)                          |[('BISCUIT', 0.6666666666666666), ('COFFEE', 1.0), ('CORNFLAKES', 0.6666666666666666), ('BREAD', 0.3333333333333333)]                                                                                                                                                                                                             |\n",
            "|('COFFEE', 'CORNFLAKES')           |[('BISCUIT', 0.5), ('COCK', 0.5), ('SUGER', 0.25), ('MILK', 0.25), ('TEA', 0.25)]                                                                                                                                                                                                                                                 |\n",
            "|('COFFEE', 'CORNFLAKES', 'MILK')   |[]                                                                                                                                                                                                                                                                                                                                |\n",
            "+-----------------------------------+----------------------------------------------------------------------------------------------------------------------------------------------------------------------------------------------------------------------------------------------------------------------------------------------------------------------------------+\n",
            "only showing top 50 rows\n",
            "\n"
          ]
        }
      ],
      "source": [
        "def map_to_assoc_rules(rule):\n",
        "\n",
        "    # Unpack the input rule into subpattern and its associated rules\n",
        "    subpattern, rules = rule\n",
        "\n",
        "    # Extract the total count for the subpattern from the rules list\n",
        "    # This is done by finding the count where the item is None\n",
        "    total_count = next((count for item, count in rules if item is None), 0)\n",
        "\n",
        "    # If total count is zero, return an empty list (no association rules possible)\n",
        "    if total_count == 0:\n",
        "        return []\n",
        "\n",
        "    # Iterate over each item and its count in the rules list\n",
        "    assoc_rules = [(item, count / total_count) for item, count in rules if item is not None]\n",
        "\n",
        "    yield (subpattern, assoc_rules)\n",
        "\n",
        "\n",
        "assoc_rules = combined_rules.flatMap(map_to_assoc_rules)\n",
        "\n",
        "# Output as dataframe\n",
        "assoc_rules.map(format_tuples).toDF(['patterns', 'association_rules']).sort(['patterns']).show(50, truncate=False)"
      ]
    },
    {
      "cell_type": "markdown",
      "metadata": {
        "id": "hA3vXekwqcPo"
      },
      "source": [
        "## 3. VAERS dataset (35 points)"
      ]
    },
    {
      "cell_type": "markdown",
      "metadata": {
        "id": "BPV5g2hwMa0U"
      },
      "source": [
        "Avec votre algorithme MBA prêt à être utilisé, il est maintenant temps de travailler sur l'ensemble de données réel.\n",
        "Pour cette partie du TP, nous l'appliquerons au domaine médical afin de mettre en avant l'apparition de symptômes cooccurents.\n",
        "Cela permet notamment d'anticiper l'apparition de symptômes et ainsi d'effectuer les traitements préventifs adéquates.\n",
        "\n",
        "Pour ce faire, téléchargez le dataset [VAERS]() et lisez sa description (fichier note.txt) pour comprendre la structure de l'ensemble de données.\n",
        "Il s'agit d'une aggrégation et normalisation des données issues du programme états-unien de surveillance [*Vaccine Adverse Event Reporting System*](https://vaers.hhs.gov/index.html), couvrant une période allant de 1990 à 2024.\n",
        "\n",
        "Avant d'appliquer l'algorithme développé sur l'ensemble de données VAERS, vous devez d'abord filtrer les transactions pour qu'elles soient au même format défini par votre algorithme (une transaction par ligne).\n",
        "Pour manipuler les données, nous pouvons utiliser le bloc de données de Spark et le module SQL présenté dans la section 1.\n",
        "\n",
        "La cellule de code suivante utilise le module Spark SQL pour lire les observations de ``OBSERVATIONS_extract.csv`` et les informations détaillées de ``DATA.csv`` et ``SYMPTOMS.csv`` pour construire une dataframe qui contient un liste de tous les symptômes jamais observés pour chaque patient."
      ]
    },
    {
      "cell_type": "markdown",
      "metadata": {
        "id": "3eaInywAwqp5"
      },
      "source": [
        "### Chargement des données"
      ]
    },
    {
      "cell_type": "code",
      "execution_count": null,
      "metadata": {
        "colab": {
          "base_uri": "https://localhost:8080/"
        },
        "id": "dcoaqEwByVIM",
        "outputId": "4226ccac-7ff0-4f09-cddb-920423ab45e9"
      },
      "outputs": [
        {
          "name": "stdout",
          "output_type": "stream",
          "text": [
            "SYMPTOMS.csv\n",
            "+----------+--------------------+\n",
            "|SYMPTOM_ID|        SYMPTOM_NAME|\n",
            "+----------+--------------------+\n",
            "|         0|Cardiac vein diss...|\n",
            "|         1|Vaccination site ...|\n",
            "|         2|Blood bicarbonate...|\n",
            "|         3|  Judgement impaired|\n",
            "|         4|Sinus node dysfun...|\n",
            "+----------+--------------------+\n",
            "only showing top 5 rows\n",
            "\n"
          ]
        }
      ],
      "source": [
        "df_symptoms = spark.read.csv(ROOT + 'SYMPTOMS.csv', header=True, sep=',', inferSchema=True)\n",
        "print('SYMPTOMS.csv')\n",
        "df_symptoms.show(5)"
      ]
    },
    {
      "cell_type": "code",
      "execution_count": null,
      "metadata": {
        "colab": {
          "base_uri": "https://localhost:8080/"
        },
        "id": "DH1zH_0UyWgv",
        "outputId": "3fea7784-4205-4169-9c93-24e241ccda8b"
      },
      "outputs": [
        {
          "name": "stdout",
          "output_type": "stream",
          "text": [
            "OBSERVATIONS.csv\n",
            "+--------------+--------+----------+\n",
            "|OBSERVATION_ID|VAERS_ID|SYMPTOM_ID|\n",
            "+--------------+--------+----------+\n",
            "|             0|   25002|      9465|\n",
            "|             0|   25002|      2581|\n",
            "|             1|   25010|     14978|\n",
            "|             2|   25011|      2581|\n",
            "|             2|   25011|      6620|\n",
            "+--------------+--------+----------+\n",
            "only showing top 5 rows\n",
            "\n"
          ]
        }
      ],
      "source": [
        "df_observations = spark.read.csv(ROOT + 'OBSERVATIONS_extract.csv', header=True, sep=',', inferSchema=True)\n",
        "print('OBSERVATIONS.csv')\n",
        "df_observations.show(5)"
      ]
    },
    {
      "cell_type": "code",
      "execution_count": null,
      "metadata": {
        "colab": {
          "base_uri": "https://localhost:8080/"
        },
        "id": "bR4veBLryXuM",
        "outputId": "dcda5c9a-b1fd-4441-f6b1-249efdff8e1a"
      },
      "outputs": [
        {
          "name": "stdout",
          "output_type": "stream",
          "text": [
            "DATA.csv\n",
            "+--------+-----+-------+---+\n",
            "|VAERS_ID|STATE|AGE_YRS|SEX|\n",
            "+--------+-----+-------+---+\n",
            "|   25002|   FR|   82.0|  M|\n",
            "|   25010|   FR|    1.7|  M|\n",
            "|   25011|   FR|    5.0|  F|\n",
            "|   25064|   FR|   NULL|  F|\n",
            "|   25055|   FR|   54.0|  F|\n",
            "+--------+-----+-------+---+\n",
            "only showing top 5 rows\n",
            "\n"
          ]
        }
      ],
      "source": [
        "df_data = spark.read.csv(ROOT + 'DATA.csv', header=True, sep=',', inferSchema=True)\n",
        "print('DATA.csv')\n",
        "df_data.show(5)"
      ]
    },
    {
      "cell_type": "code",
      "execution_count": null,
      "metadata": {
        "colab": {
          "base_uri": "https://localhost:8080/"
        },
        "id": "f9cxx8h8EWMm",
        "outputId": "1afb907d-0e34-4419-fc15-6a8736856590"
      },
      "outputs": [
        {
          "name": "stdout",
          "output_type": "stream",
          "text": [
            "VAX.csv\n",
            "+--------+--------+------------------+--------------------+\n",
            "|VAERS_ID|VAX_TYPE|          VAX_MANU|            VAX_NAME|\n",
            "+--------+--------+------------------+--------------------+\n",
            "|   25002|     PPV|  MERCK & CO. INC.|  PNEUMO (PNEUMOVAX)|\n",
            "|   25010|     MMR|  MERCK & CO. INC.|MEASLES + MUMPS +...|\n",
            "|   25011|     HEP|SMITHKLINE BEECHAM|   HEP B (ENGERIX-B)|\n",
            "|   25055|     HEP|SMITHKLINE BEECHAM|   HEP B (ENGERIX-B)|\n",
            "|   25056|     HEP|SMITHKLINE BEECHAM|   HEP B (ENGERIX-B)|\n",
            "+--------+--------+------------------+--------------------+\n",
            "only showing top 5 rows\n",
            "\n"
          ]
        }
      ],
      "source": [
        "df_vax = spark.read.csv(ROOT + 'VAX.csv', header=True, sep=',', inferSchema=True)\n",
        "print('VAX.csv')\n",
        "df_vax.show(5)"
      ]
    },
    {
      "cell_type": "markdown",
      "metadata": {
        "id": "4SKrggVywy-P"
      },
      "source": [
        "### Requête avec SQL"
      ]
    },
    {
      "cell_type": "code",
      "execution_count": null,
      "metadata": {
        "id": "r0j8lixgGl4m"
      },
      "outputs": [],
      "source": [
        "df_observations.createOrReplaceTempView(\"OBSERVATIONS\") # creates table 'observations'\n",
        "df_symptoms.createOrReplaceTempView(\"SYMPTOMS\") # creates table 'symptoms'\n",
        "df_data.createOrReplaceTempView(\"DATA\") # creates table 'data'\n",
        "df_vax.createOrReplaceTempView(\"VAX\") # creates table 'vax'"
      ]
    },
    {
      "cell_type": "code",
      "execution_count": null,
      "metadata": {
        "colab": {
          "base_uri": "https://localhost:8080/"
        },
        "id": "mVss9sotT8X9",
        "outputId": "011ab259-7b37-4bda-cbdd-833c04fbdeec"
      },
      "outputs": [
        {
          "name": "stdout",
          "output_type": "stream",
          "text": [
            "+--------+------------------------------------------------------------------------------+\n",
            "|VAERS_ID|SYMPTOMS                                                                      |\n",
            "+--------+------------------------------------------------------------------------------+\n",
            "|25002   |[Convulsion, Chills]                                                          |\n",
            "|25010   |[Bronchitis]                                                                  |\n",
            "|25011   |[Vomiting, Pyrexia, Convulsion]                                               |\n",
            "|25055   |[Neoplasm malignant, Nausea, Hepatocellular damage, Hepatic function abnormal]|\n",
            "|25056   |[Malaise, Hepatic cirrhosis]                                                  |\n",
            "+--------+------------------------------------------------------------------------------+\n",
            "only showing top 5 rows\n",
            "\n"
          ]
        }
      ],
      "source": [
        "\"\"\"\n",
        "List of symptoms ever contracted by each user\n",
        "\"\"\"\n",
        "spark.sql(\"\"\"\n",
        "  SELECT\n",
        "    data.VAERS_ID,\n",
        "    COLLECT_LIST(symp.SYMPTOM_NAME) AS SYMPTOMS\n",
        "  FROM DATA\n",
        "  INNER JOIN OBSERVATIONS observ ON observ.VAERS_ID = data.VAERS_ID\n",
        "  INNER JOIN SYMPTOMS symp ON observ.SYMPTOM_ID = symp.SYMPTOM_ID\n",
        "  GROUP BY data.VAERS_ID ORDER BY data.VAERS_ID\n",
        "\"\"\").show(5, truncate=False)"
      ]
    },
    {
      "cell_type": "markdown",
      "metadata": {
        "id": "dxNCqA-Uw52I"
      },
      "source": [
        "### Requête avec opérations ensemblistes sur le dataFrame"
      ]
    },
    {
      "cell_type": "code",
      "execution_count": null,
      "metadata": {
        "colab": {
          "base_uri": "https://localhost:8080/"
        },
        "id": "6oB1eTkeMa0W",
        "outputId": "ae04c4c0-f0d4-4ee3-87bb-984f54f5a3b0"
      },
      "outputs": [
        {
          "name": "stdout",
          "output_type": "stream",
          "text": [
            "+--------+------------------------------------------------------------------------------+\n",
            "|VAERS_ID|SYMPTOMS                                                                      |\n",
            "+--------+------------------------------------------------------------------------------+\n",
            "|25002   |[Convulsion, Chills]                                                          |\n",
            "|25010   |[Bronchitis]                                                                  |\n",
            "|25011   |[Vomiting, Pyrexia, Convulsion]                                               |\n",
            "|25055   |[Neoplasm malignant, Nausea, Hepatocellular damage, Hepatic function abnormal]|\n",
            "|25056   |[Malaise, Hepatic cirrhosis]                                                  |\n",
            "+--------+------------------------------------------------------------------------------+\n",
            "only showing top 5 rows\n",
            "\n"
          ]
        }
      ],
      "source": [
        "\"\"\"\n",
        "List of symptoms ever contracted by each user\n",
        "\"\"\"\n",
        "df_data.join(df_observations, df_observations.VAERS_ID == df_data.VAERS_ID, 'inner')\\\n",
        " .join(df_symptoms, df_symptoms.SYMPTOM_ID == df_observations.SYMPTOM_ID, 'inner')\\\n",
        " .groupBy(df_data.VAERS_ID).agg(f.collect_list(df_symptoms.SYMPTOM_NAME).alias('SYMPTOMS'))\\\n",
        " .orderBy(df_data.VAERS_ID).show(5, truncate=False)"
      ]
    },
    {
      "cell_type": "markdown",
      "metadata": {
        "id": "JEqVeqhkMa0a"
      },
      "source": [
        "### 3.1 Perspectives médicales (20 points)\n",
        "\n",
        "Maintenant, vous êtes le *data scientist*. **En ne considérant que les lignes de ``OBSERVATIONS.csv``**, l'utilisation du module Spark SQL, performant avec SQL ou dataframe, répondez aux questions suivantes:\n",
        "\n",
        "1. Quel est l'âge moyen des patients par états américains ? - 4 pts\n",
        "2. Quels sont les 3 symptômes les plus observés pour chaque entreprise de vaccins ? - 8 pts\n",
        "3. Quelle est le nombre moyen de symptômes pour les 20 vaccins les plus utilisés ? - 8 pts\n",
        "    - utilisez un barplot pour visualiser vos résultats, ordonné selon la popularité des vaccins de cette ensemble de données\n",
        "**La sortie de ces questions doit contenir le NOM des produits, pas leur ID.**"
      ]
    },
    {
      "cell_type": "code",
      "execution_count": null,
      "metadata": {
        "colab": {
          "base_uri": "https://localhost:8080/"
        },
        "id": "mduVYG70d__G",
        "outputId": "25caa684-b704-406d-e566-29b622b88754",
        "scrolled": true
      },
      "outputs": [
        {
          "name": "stdout",
          "output_type": "stream",
          "text": [
            "+-----+------------------+-------------+\n",
            "|STATE|MEAN_AGE          |PATIENT_COUNT|\n",
            "+-----+------------------+-------------+\n",
            "|XV   |53.0              |2            |\n",
            "|XB   |49.5              |12           |\n",
            "|AS   |48.9683           |100          |\n",
            "|FL   |48.70062404526923 |75283        |\n",
            "|MN   |44.854145968322506|33336        |\n",
            "|KY   |44.740111775528945|21740        |\n",
            "|MI   |44.572689699918925|61650        |\n",
            "|AZ   |44.181660384411686|32101        |\n",
            "|PR   |43.76019668597601 |7423         |\n",
            "|CT   |43.63826995692177 |18803        |\n",
            "|NV   |43.56006325528701 |10592        |\n",
            "|DE   |43.51405103331928 |4742         |\n",
            "|IN   |43.263884985299256|40134        |\n",
            "|MT   |43.0678064324885  |6747         |\n",
            "|FM   |43.02538461538462 |65           |\n",
            "|VT   |42.83776263736264 |4550         |\n",
            "|CO   |42.57963074436367 |35883        |\n",
            "|TN   |42.429461943319815|24700        |\n",
            "|SC   |42.245218176686436|17715        |\n",
            "|NY   |41.99645738324132 |79159        |\n",
            "+-----+------------------+-------------+\n",
            "only showing top 20 rows\n",
            "\n"
          ]
        }
      ],
      "source": [
        "\"\"\"\n",
        "Mean age and number of patient by state, sorted by mean age\n",
        "\"\"\"\n",
        "\n",
        "# 1. Select the state in uppercase, the average age of patients, and the count of patients.\n",
        "# 2. Filter out rows where age and state is null to ensure accurate calculations.\n",
        "# 3. Group the data by state.\n",
        "# 4. Calculate the mean age and patient count for each state.\n",
        "# 5. Order the results by mean age in descending order to prioritize states with higher average ages.\n",
        "\n",
        "state = spark.sql(\"\"\"\n",
        "SELECT\n",
        "    UPPER(data.STATE) AS STATE,\n",
        "    AVG(data.AGE_YRS) AS MEAN_AGE,\n",
        "    COUNT(data.VAERS_ID) AS PATIENT_COUNT\n",
        "FROM DATA\n",
        "WHERE data.AGE_YRS IS NOT NULL AND data.STATE IS NOT NULL\n",
        "GROUP BY UPPER(data.STATE)\n",
        "ORDER BY MEAN_AGE DESC\n",
        "\"\"\")\n",
        "\n",
        "state.show(20, truncate=False)"
      ]
    },
    {
      "cell_type": "code",
      "execution_count": null,
      "metadata": {
        "colab": {
          "base_uri": "https://localhost:8080/"
        },
        "id": "U4oaFriU93Qk",
        "outputId": "e0423387-4ca3-4fbb-e165-bb35273cda11",
        "scrolled": false
      },
      "outputs": [
        {
          "name": "stdout",
          "output_type": "stream",
          "text": [
            "+--------------------------------+----------------------------------------------------------------------------+\n",
            "|VAX_MANU                        |Top3_Symptoms                                                               |\n",
            "+--------------------------------+----------------------------------------------------------------------------+\n",
            "|AVENTIS PASTEUR                 |[Injection site pain, Injection site erythema, Pruritus]                    |\n",
            "|BAVARIAN NORDIC                 |[Monkeypox, Inappropriate schedule of product administration, Off label use]|\n",
            "|BAXTER HEALTHCARE CORP.         |[Dysphonia, Crying]                                                         |\n",
            "|BERNA BIOTECH, LTD              |[Alcohol use, Autopsy, Death]                                               |\n",
            "|BERNA BIOTECH, LTD.             |[Pyrexia, Diarrhoea, Nausea]                                                |\n",
            "|BSI                             |[Grand mal convulsion, Nausea, Enzyme abnormality]                          |\n",
            "|BURROUGHS WELLCOME              |[Injection site warmth, Chills, Skin nodule]                                |\n",
            "|CONNAUGHT LABORATORIES          |[Pyrexia, Injection site hypersensitivity, Injection site oedema]           |\n",
            "|CONNAUGHT LTD.                  |[Pyrexia, Injection site erythema, Agitation]                               |\n",
            "|CSL LIMITED                     |[Pyrexia, Vomiting, Headache]                                               |\n",
            "|DYNAVAX TECHNOLOGIES CORPORATION|[No adverse event, Pyrexia, Cough]                                          |\n",
            "|EMERGENT BIOSOLUTIONS           |[Arthralgia, Injection site pain, Pruritus]                                 |\n",
            "|EVANS VACCINES                  |[Pyrexia, Pain, Injection site erythema]                                    |\n",
            "|GLAXOSMITHKLINE BIOLOGICALS     |[Pyrexia, Vomiting, Crying]                                                 |\n",
            "|GREER LABORATORIES, INC.        |[Nausea, Pyrexia, Vomiting]                                                 |\n",
            "|INTERCELL AG                    |[Headache, Dizziness, Paraesthesia]                                         |\n",
            "|JANSSEN                         |[Vaccination failure, COVID-19, SARS-CoV-2 test]                            |\n",
            "|LEDERLE LABORATORIES            |[Pyrexia, Injection site hypersensitivity, Agitation]                       |\n",
            "|LEDERLE PRAXSIS                 |[Pyrexia, Infection, Laboratory test abnormal]                              |\n",
            "|MASS. PUB HLTH BIOL LAB         |[Pyrexia, Injection site hypersensitivity, Vasodilatation]                  |\n",
            "+--------------------------------+----------------------------------------------------------------------------+\n",
            "only showing top 20 rows\n",
            "\n"
          ]
        }
      ],
      "source": [
        "\"\"\"\n",
        "Top 3 most observated symptoms of each company\n",
        "\"\"\"\n",
        "df_observations_complet = spark.read.csv(ROOT + 'OBSERVATIONS.csv', header=True, sep=',', inferSchema=True)\n",
        "df_observations_complet.createOrReplaceTempView(\"OBSERVATIONS_COMPLET\") # creates table 'observations_complet'\n",
        "\n",
        "\"\"\"\n",
        "This code identifies the top 3 most observed symptoms for each vaccine manufacturer.\n",
        "It ranks symptoms based on their frequency and then collects the top 3 symptoms for each manufacturer.\n",
        "\n",
        "1. Create a common table expression (CTE) named ranked_symptoms:\n",
        "   a. Select the vaccine manufacturer (VAX_MANU) and symptom name (SYMPTOM_NAME).\n",
        "   b. Calculate a rank for each symptom within each vaccine manufacturer based on the frequency of occurrence, using ROW_NUMBER().\n",
        "   c. The ROW_NUMBER() function partitions the data by vaccine manufacturer and orders the symptoms by their count in descending order.\n",
        "   d. Join the VAX, OBSERVATIONS_COMPLET, and SYMPTOMS tables to get the necessary data.\n",
        "   e. Group by vaccine manufacturer and symptom name to prepare for ranking.\n",
        "\n",
        "2. Select from the ranked_symptoms CTE:\n",
        "   a. Select the vaccine manufacturer (VAX_MANU).\n",
        "   b. Collect the top 3 symptoms (SYMPTOM_NAME) into a list for each manufacturer where the rank is 3 or less.\n",
        "   c. Group by vaccine manufacturer to aggregate the top 3 symptoms.\n",
        "   d. Order the results by vaccine manufacturer to provide a sorted output.\n",
        "\"\"\"\n",
        "\n",
        "Top3 = spark.sql(\"\"\"\n",
        "WITH ranked_symptoms AS (\n",
        "    SELECT\n",
        "        VAX_MANU,\n",
        "        SYMPTOM_NAME,\n",
        "        ROW_NUMBER() OVER (PARTITION BY VAX_MANU ORDER BY COUNT(*) DESC) AS rank\n",
        "    FROM VAX\n",
        "    INNER JOIN OBSERVATIONS_COMPLET observ ON observ.VAERS_ID = VAX.VAERS_ID\n",
        "    INNER JOIN SYMPTOMS symp ON observ.SYMPTOM_ID = symp.SYMPTOM_ID\n",
        "    GROUP BY VAX_MANU, SYMPTOM_NAME\n",
        ")\n",
        "SELECT\n",
        "    VAX_MANU,\n",
        "    COLLECT_LIST(SYMPTOM_NAME) AS Top3_Symptoms\n",
        "FROM ranked_symptoms\n",
        "WHERE rank <= 3\n",
        "GROUP BY VAX_MANU\n",
        "ORDER BY VAX_MANU\n",
        "\"\"\")\n",
        "\n",
        "Top3.show(truncate=False)"
      ]
    },
    {
      "cell_type": "code",
      "execution_count": null,
      "metadata": {
        "colab": {
          "base_uri": "https://localhost:8080/"
        },
        "id": "qDVz6FbIQZBk",
        "outputId": "b2e4a6ee-6f0c-4b6e-abbd-fd9e24b61792"
      },
      "outputs": [
        {
          "name": "stdout",
          "output_type": "stream",
          "text": [
            "+------------------------------------+------------------+---------------+\n",
            "|VAX_NAME                            |AVERAGE_SYMPTOMS  |INJECTION_COUNT|\n",
            "+------------------------------------+------------------+---------------+\n",
            "|COVID19 (COVID19 (PFIZER-BIONTECH)) |5.382880965719568 |505157         |\n",
            "|COVID19 (COVID19 (MODERNA))         |4.429952922923242 |94101          |\n",
            "|MEASLES + MUMPS + RUBELLA (MMR II)  |3.683589936162223 |26630          |\n",
            "|COVID19 (COVID19 (JANSSEN))         |3.706938619900877 |26230          |\n",
            "|POLIO VIRUS, ORAL (ORIMUNE)         |3.2228422448886245|21863          |\n",
            "|HEP B (ENGERIX-B)                   |4.153753897817222 |20845          |\n",
            "|VARICELLA (VARIVAX)                 |2.775147572581617 |16602          |\n",
            "|HEP B (RECOMBIVAX HB)               |3.4973869281889156|15499          |\n",
            "|DTP (NO BRAND NAME)                 |3.7079651852828697|15166          |\n",
            "|PNEUMO (PNEUMOVAX)                  |4.061963103788199 |14202          |\n",
            "|HIB (HIBTITER)                      |3.1177946659019216|13948          |\n",
            "|INFLUENZA (SEASONAL) (NO BRAND NAME)|5.400861056751467 |12775          |\n",
            "|PNEUMO (PREVNAR13)                  |5.820391414141414 |12672          |\n",
            "|TD ADSORBED (NO BRAND NAME)         |3.8486448784376246|10036          |\n",
            "|HPV (GARDASIL)                      |7.470088065593684 |9879           |\n",
            "|HIB (ACTHIB)                        |4.7074865747078025|9497           |\n",
            "|PNEUMO (PREVNAR)                    |4.517222877991201 |9319           |\n",
            "|ROTAVIRUS (ROTARIX)                 |5.5521410579345085|7940           |\n",
            "|DTAP (INFANRIX)                     |4.092658227848101 |7900           |\n",
            "|POLIO VIRUS, INACT. (POLIOVAX)      |3.751656059228471 |7699           |\n",
            "+------------------------------------+------------------+---------------+\n",
            "\n"
          ]
        }
      ],
      "source": [
        "\"\"\"\n",
        "TODO\n",
        "Average number of symptomes for the top 20 injected vaccine.\n",
        "\"\"\"\n",
        "\n",
        "from pyspark.sql.functions import avg, countDistinct\n",
        "\n",
        "# Read the complete observations data\n",
        "df_observations_all = spark.read.csv(ROOT + 'OBSERVATIONS.csv', header=True, sep=',', inferSchema=True)\n",
        "\n",
        "# Join DataFrames to get the complete data\n",
        "df_complete = df_observations_all.join(df_vax, on='VAERS_ID')\n",
        "\n",
        "# Aggregate the required metrics\n",
        "# First, group by 'VAX_NAME' and 'VAERS_ID' to count distinct symptoms for each patient getting a vaccine\n",
        "# Then, group by 'VAX_NAME' to calculate the average number of symptoms per vaccination\n",
        "# and the total number of injections\n",
        "# countDistinct('SYMPTOM_ID') ensures that duplicate symptoms in observations are not counted multiple times\n",
        "# countDistinct('VAERS_ID') ensures that duplicate vaccination records are not counted multiple times\n",
        "# (since 'VAERS_ID' is a primary key, but the dataset contains duplicate tuples of ('VAERS_ID', 'VAX_NAME', 'VAX_TYPE'))\n",
        "aggregated_df = df_complete.groupBy('VAX_NAME', 'VAERS_ID')\\\n",
        "                           .agg(countDistinct('SYMPTOM_ID').alias('SYMPTOM_COUNT'))\\\n",
        "                           .groupBy('VAX_NAME')\\\n",
        "                           .agg(\n",
        "                               avg('SYMPTOM_COUNT').alias('AVERAGE_SYMPTOMS'),\n",
        "                               countDistinct('VAERS_ID').alias('INJECTION_COUNT')\n",
        "                           )\n",
        "\n",
        "# Identify the top 20 vaccines based on the number of injections\n",
        "top_20_vaccines = aggregated_df.orderBy('INJECTION_COUNT', ascending=False).limit(20)\n",
        "\n",
        "top_20_vaccines.show(truncate=False)"
      ]
    },
    {
      "cell_type": "code",
      "execution_count": null,
      "metadata": {
        "colab": {
          "base_uri": "https://localhost:8080/",
          "height": 532
        },
        "id": "vXsTv3dfROyX",
        "outputId": "89b92519-d0a0-446a-afef-7308fa197fb7"
      },
      "outputs": [
        {
          "data": {
            "image/png": "[encoded data removed]",
            "text/plain": [
              "<Figure size 1200x800 with 1 Axes>"
            ]
          },
          "metadata": {},
          "output_type": "display_data"
        }
      ],
      "source": [
        "import pandas as pd\n",
        "import matplotlib.pyplot as plt\n",
        "import seaborn as sns\n",
        "\n",
        "# Collect the results to a Pandas DataFrame\n",
        "pdf = top_20_vaccines.toPandas()\n",
        "\n",
        "# Plotting\n",
        "plt.figure(figsize=(12, 8))\n",
        "sns.barplot(x='AVERAGE_SYMPTOMS', y='VAX_NAME', hue='VAX_NAME', data=pdf, palette='viridis')\n",
        "plt.xlabel('Average Number of Symptoms')\n",
        "plt.ylabel('Vaccine Name')\n",
        "plt.title('Top 20 Vaccines by Number of Injections and Their Average Number of Symptoms')\n",
        "plt.grid(True)\n",
        "plt.show()"
      ]
    },
    {
      "cell_type": "markdown",
      "metadata": {
        "id": "PEWqTH1QMa0a"
      },
      "source": [
        "### 3.2 MBA pour les observations de 2024 (15 points)\n",
        "\n",
        "En utilisant les commandes du ``OBSERVATIONS_extract.csv``, créez un bloc de données où chaque ligne contient la colonne ``transaction`` avec la liste des produits achetés, de manière similaire au GroceryDataset. Ensuite, exécutez l'algorithme MBA pour cet ensemble de transactions.\n",
        "\n",
        "- Vous devez signaler le temps passé pour effectuer cette tâche.\n",
        "- La sortie doit contenir le nom des produits."
      ]
    },
    {
      "cell_type": "code",
      "execution_count": null,
      "metadata": {
        "colab": {
          "base_uri": "https://localhost:8080/"
        },
        "id": "vxZh_f3hMa0b",
        "outputId": "6a7e8325-72e6-4de3-9dc9-7a1272f197a5"
      },
      "outputs": [
        {
          "name": "stdout",
          "output_type": "stream",
          "text": [
            "+--------+-------------------------------------------------------------------------------------------------------------------------+\n",
            "|VAERS_ID|transaction                                                                                                              |\n",
            "+--------+-------------------------------------------------------------------------------------------------------------------------+\n",
            "|25002   |Convulsion,Chills                                                                                                        |\n",
            "|25010   |Bronchitis                                                                                                               |\n",
            "|25011   |Vomiting,Convulsion,Pyrexia                                                                                              |\n",
            "|25055   |Hepatic function abnormal,Hepatocellular damage,Nausea,Neoplasm malignant                                                |\n",
            "|25056   |Hepatic cirrhosis,Malaise                                                                                                |\n",
            "|25057   |Anaphylactoid reaction                                                                                                   |\n",
            "|25058   |Headache,Convulsion,Electroencephalogram abnormal                                                                        |\n",
            "|25060   |Angina pectoris,Urticaria,Angioneurotic oedema                                                                           |\n",
            "|25061   |Dyspnoea,Rash,Anaphylactoid reaction                                                                                     |\n",
            "|25064   |Congenital anomaly                                                                                                       |\n",
            "|25066   |Vomiting,Tachycardia,Apnoea,Weight decreased,Bradycardia,Pyrexia                                                         |\n",
            "|25486   |Facial palsy,Asthenia,Pyrexia                                                                                            |\n",
            "|25519   |Diabetes mellitus                                                                                                        |\n",
            "|25520   |Sepsis                                                                                                                   |\n",
            "|25528   |Dyspnoea,Rash,Anaphylactoid reaction,Pruritus,Asthma                                                                     |\n",
            "|25540   |Hyperventilation,Rash maculo-papular,Conjunctivitis,Laryngospasm,Urticaria,Dyspnoea,Paraesthesia,Chest pain,Nausea,Asthma|\n",
            "|25541   |Abortion,Vaginal haemorrhage                                                                                             |\n",
            "|25555   |Convulsion,Pyrexia                                                                                                       |\n",
            "|25567   |Paraesthesia,Laboratory test abnormal,Myasthenic syndrome                                                                |\n",
            "|25608   |Abdominal pain,Pallor,Anorexia,Cholecystitis,Abdominal distension                                                        |\n",
            "+--------+-------------------------------------------------------------------------------------------------------------------------+\n",
            "only showing top 20 rows\n",
            "\n",
            "CPU times: user 77 ms, sys: 10.6 ms, total: 87.6 ms\n",
            "Wall time: 12 s\n"
          ]
        }
      ],
      "source": [
        "%%time\n",
        "\"\"\"\n",
        "TODO: create a query to create and struct the transactions\n",
        "\"\"\"\n",
        "from itertools import combinations\n",
        "from pyspark.sql.functions import collect_list, concat_ws, collect_set\n",
        "\n",
        "def map_to_patterns(row):\n",
        "    transaction = sorted(row.transaction.split(','))\n",
        "\n",
        "    single = list(combinations(transaction, 1))\n",
        "    pair = list(combinations(transaction, 2))\n",
        "    trio = list(combinations(transaction, 3))\n",
        "\n",
        "    pattern_list = single + pair + trio\n",
        "\n",
        "    for p in pattern_list:\n",
        "        yield (p, 1)\n",
        "\n",
        "def format_tuples(pattern):\n",
        "    return (str(pattern[0]), str(pattern[1]))\n",
        "\n",
        "def reduce_patterns(v1, v2):\n",
        "    return v1 + v2\n",
        "\n",
        "def map_to_subpatterns(pattern):\n",
        "    single = list(combinations(pattern[0], 1))\n",
        "    pair = list(combinations(pattern[0], 2))\n",
        "    trio = list(combinations(pattern[0], 3))\n",
        "\n",
        "    combo_list = single + pair + trio\n",
        "    combo_list_processed = [combo for combo in combo_list if len(combo) >= (len(pattern[0]) - 1)]\n",
        "\n",
        "    for subpattern in combo_list_processed:\n",
        "        missing_elements = set(pattern[0]) - set(subpattern)\n",
        "        if missing_elements == set():\n",
        "            missing_elements = None\n",
        "            yield (subpattern, (None, pattern[1]))\n",
        "        else:\n",
        "            yield (subpattern, (*missing_elements, pattern[1]))\n",
        "\n",
        "def map_to_assoc_rules(rule):\n",
        "    # Unpack the input rule into subpattern and its associated rules\n",
        "    subpattern, rules = rule\n",
        "\n",
        "    # Extract the total count for the subpattern from the rules list\n",
        "    # This is done by finding the count where the item is None\n",
        "    total_count = next((count for item, count in rules if item is None), 0)\n",
        "\n",
        "    # If total count is zero, return an empty list (no association rules possible)\n",
        "    if total_count == 0:\n",
        "        return []\n",
        "\n",
        "    # Iterate over each item and its count in the rules list\n",
        "    assoc_rules = [(item, count / total_count) for item, count in rules if item is not None]\n",
        "\n",
        "    yield (subpattern, assoc_rules)\n",
        "\n",
        "# Read the OBSERVATIONS_extract.csv and SYMPTOMS.csv into a DataFrames\n",
        "df_OB_ext = spark.read.csv(ROOT + 'OBSERVATIONS_extract.csv', header=True, sep=',', inferSchema=True)\n",
        "df_symptoms = spark.read.csv(ROOT + 'SYMPTOMS.csv', header=True, sep=',', inferSchema=True)\n",
        "\n",
        "# Perform an inner join between the observations DataFrame (df_OB_ext) and the symptoms DataFrame (df_symptoms)\n",
        "df_OB_ext = df_OB_ext.join(df_symptoms, ['SYMPTOM_ID'])\n",
        "\n",
        "# Group the joined DataFrame by 'VAERS_ID'\n",
        "# This aggregates each patient's symptoms into a single transaction string, similar to grouping items in a market basket\n",
        "df_OB_ext = df_OB_ext.groupBy(df_OB_ext.VAERS_ID)\\\n",
        "                          .agg(concat_ws(',', collect_set('SYMPTOM_NAME')).alias('transaction'))\\\n",
        "                          .orderBy('VAERS_ID')\n",
        "\n",
        "\n",
        "df_OB_ext.show(truncate = False)\n",
        "df_OB_ext_rdd = df_OB_ext.rdd\n"
      ]
    },
    {
      "cell_type": "code",
      "execution_count": null,
      "metadata": {
        "colab": {
          "base_uri": "https://localhost:8080/"
        },
        "id": "dewN0YUEMa0h",
        "outputId": "7d24e55b-b445-47b5-82a3-74557e136d8c"
      },
      "outputs": [
        {
          "name": "stdout",
          "output_type": "stream",
          "text": [
            "+---------------------------------------------------------------------------------------------------------------+----------------------------------------------------------------------------------------------------------------------------------------------------------------------------------------------------------------------------------------------------------------------------------------------------------------------------------------------------------------------------------------------------------------------------------------------------------------------------------------------------------------------------------------------------------------------------------------------------------------------------------------------------------------------------------------------------------------------------------------------------------------------------------------------------------------------------------------------------------------------------------------------------------------------------------------------------------------------------------------------------------------------------------------------------------------------------------------------------------------------------------------------------------------------------------------------------------------------------------------------------------------------------------------------------------------------------------------------------------------------------------------------------------------------------------------------------------------------------------------------------------------------------------------------------------------------------------------------------------------------------------------------------------------------------------------------+\n",
            "|SYMPTOM (step 5)                                                                                               |ReduceSubpatterns                                                                                                                                                                                                                                                                                                                                                                                                                                                                                                                                                                                                                                                                                                                                                                                                                                                                                                                                                                                                                                                                                                                                                                                                                                                                                                                                                                                                                                                                                                                                                                                                                                                                             |\n",
            "+---------------------------------------------------------------------------------------------------------------+----------------------------------------------------------------------------------------------------------------------------------------------------------------------------------------------------------------------------------------------------------------------------------------------------------------------------------------------------------------------------------------------------------------------------------------------------------------------------------------------------------------------------------------------------------------------------------------------------------------------------------------------------------------------------------------------------------------------------------------------------------------------------------------------------------------------------------------------------------------------------------------------------------------------------------------------------------------------------------------------------------------------------------------------------------------------------------------------------------------------------------------------------------------------------------------------------------------------------------------------------------------------------------------------------------------------------------------------------------------------------------------------------------------------------------------------------------------------------------------------------------------------------------------------------------------------------------------------------------------------------------------------------------------------------------------------+\n",
            "|(\"5'nucleotidase\", 'Activated partial thromboplastin time prolonged')                                          |[('Hepatitis B surface antigen negative', 1.0), ('Toxoplasma serology negative', 1.0), ('Blood immunoglobulin G', 1.0), ('Gamma-glutamyltransferase increased', 1.0), ('Protein total normal', 1.0), ('Rubella antibody negative', 1.0), ('C-reactive protein increased', 1.0), ('Thrombin time abnormal', 1.0), ('Blood bilirubin unconjugated increased', 1.0), ('Immunoglobulin therapy', 1.0), ('Hepatitis B surface antibody positive', 1.0), ('Blood immunoglobulin M', 1.0), ('Blood pH decreased', 1.0), ('Idiopathic thrombocytopenic purpura', 1.0), ('Streptococcus test negative', 1.0), ('Red blood cell count decreased', 1.0), ('HIV antibody negative', 1.0), ('Hepatitis C virus test', 1.0), ('Antibody test negative', 1.0), ('Blood bilirubin normal', 1.0), ('Bilirubin conjugated', 1.0), ('Prothrombin time shortened', 1.0), ('Blood albumin normal', 1.0), ('Alanine aminotransferase normal', 1.0), ('Blood fibrinogen', 1.0), ('Scan bone marrow abnormal', 1.0), ('Cytomegalovirus test negative', 1.0), ('Hepatitis B e antigen negative', 1.0), ('Hepatitis B e antibody', 1.0), ('Hepatitis B e antigen', 1.0), ('Mycoplasma test', 1.0), ('Hepatitis B core antibody', 1.0), ('Blood cholinesterase increased', 1.0), ('PCO2 decreased', 1.0), ('Petechiae', 1.0), ('Haemoglobin decreased', 1.0), ('International normalised ratio normal', 1.0), ('Blood immunoglobulin A', 1.0), ('Treponema test negative', 1.0), ('Fibrin D dimer', 1.0), ('Total bile acids', 1.0), ('White blood cell count normal', 1.0), ('Platelet count decreased', 1.0), ('Herpes simplex serology negative', 1.0), ('Globulin', 1.0), ('Aspartate aminotransferase normal', 1.0)]|\n",
            "|(\"5'nucleotidase\", 'Activated partial thromboplastin time prolonged', 'Alanine aminotransferase normal')       |[]                                                                                                                                                                                                                                                                                                                                                                                                                                                                                                                                                                                                                                                                                                                                                                                                                                                                                                                                                                                                                                                                                                                                                                                                                                                                                                                                                                                                                                                                                                                                                                                                                                                                                            |\n",
            "|(\"5'nucleotidase\", 'Activated partial thromboplastin time prolonged', 'Antibody test negative')                |[]                                                                                                                                                                                                                                                                                                                                                                                                                                                                                                                                                                                                                                                                                                                                                                                                                                                                                                                                                                                                                                                                                                                                                                                                                                                                                                                                                                                                                                                                                                                                                                                                                                                                                            |\n",
            "|(\"5'nucleotidase\", 'Activated partial thromboplastin time prolonged', 'Aspartate aminotransferase normal')     |[]                                                                                                                                                                                                                                                                                                                                                                                                                                                                                                                                                                                                                                                                                                                                                                                                                                                                                                                                                                                                                                                                                                                                                                                                                                                                                                                                                                                                                                                                                                                                                                                                                                                                                            |\n",
            "|(\"5'nucleotidase\", 'Activated partial thromboplastin time prolonged', 'Bilirubin conjugated')                  |[]                                                                                                                                                                                                                                                                                                                                                                                                                                                                                                                                                                                                                                                                                                                                                                                                                                                                                                                                                                                                                                                                                                                                                                                                                                                                                                                                                                                                                                                                                                                                                                                                                                                                                            |\n",
            "|(\"5'nucleotidase\", 'Activated partial thromboplastin time prolonged', 'Blood albumin normal')                  |[]                                                                                                                                                                                                                                                                                                                                                                                                                                                                                                                                                                                                                                                                                                                                                                                                                                                                                                                                                                                                                                                                                                                                                                                                                                                                                                                                                                                                                                                                                                                                                                                                                                                                                            |\n",
            "|(\"5'nucleotidase\", 'Activated partial thromboplastin time prolonged', 'Blood bilirubin normal')                |[]                                                                                                                                                                                                                                                                                                                                                                                                                                                                                                                                                                                                                                                                                                                                                                                                                                                                                                                                                                                                                                                                                                                                                                                                                                                                                                                                                                                                                                                                                                                                                                                                                                                                                            |\n",
            "|(\"5'nucleotidase\", 'Activated partial thromboplastin time prolonged', 'Blood bilirubin unconjugated increased')|[]                                                                                                                                                                                                                                                                                                                                                                                                                                                                                                                                                                                                                                                                                                                                                                                                                                                                                                                                                                                                                                                                                                                                                                                                                                                                                                                                                                                                                                                                                                                                                                                                                                                                                            |\n",
            "|(\"5'nucleotidase\", 'Activated partial thromboplastin time prolonged', 'Blood cholinesterase increased')        |[]                                                                                                                                                                                                                                                                                                                                                                                                                                                                                                                                                                                                                                                                                                                                                                                                                                                                                                                                                                                                                                                                                                                                                                                                                                                                                                                                                                                                                                                                                                                                                                                                                                                                                            |\n",
            "|(\"5'nucleotidase\", 'Activated partial thromboplastin time prolonged', 'Blood fibrinogen')                      |[]                                                                                                                                                                                                                                                                                                                                                                                                                                                                                                                                                                                                                                                                                                                                                                                                                                                                                                                                                                                                                                                                                                                                                                                                                                                                                                                                                                                                                                                                                                                                                                                                                                                                                            |\n",
            "|(\"5'nucleotidase\", 'Activated partial thromboplastin time prolonged', 'Blood immunoglobulin A')                |[]                                                                                                                                                                                                                                                                                                                                                                                                                                                                                                                                                                                                                                                                                                                                                                                                                                                                                                                                                                                                                                                                                                                                                                                                                                                                                                                                                                                                                                                                                                                                                                                                                                                                                            |\n",
            "|(\"5'nucleotidase\", 'Activated partial thromboplastin time prolonged', 'Blood immunoglobulin G')                |[]                                                                                                                                                                                                                                                                                                                                                                                                                                                                                                                                                                                                                                                                                                                                                                                                                                                                                                                                                                                                                                                                                                                                                                                                                                                                                                                                                                                                                                                                                                                                                                                                                                                                                            |\n",
            "|(\"5'nucleotidase\", 'Activated partial thromboplastin time prolonged', 'Blood immunoglobulin M')                |[]                                                                                                                                                                                                                                                                                                                                                                                                                                                                                                                                                                                                                                                                                                                                                                                                                                                                                                                                                                                                                                                                                                                                                                                                                                                                                                                                                                                                                                                                                                                                                                                                                                                                                            |\n",
            "|(\"5'nucleotidase\", 'Activated partial thromboplastin time prolonged', 'Blood pH decreased')                    |[]                                                                                                                                                                                                                                                                                                                                                                                                                                                                                                                                                                                                                                                                                                                                                                                                                                                                                                                                                                                                                                                                                                                                                                                                                                                                                                                                                                                                                                                                                                                                                                                                                                                                                            |\n",
            "|(\"5'nucleotidase\", 'Activated partial thromboplastin time prolonged', 'C-reactive protein increased')          |[]                                                                                                                                                                                                                                                                                                                                                                                                                                                                                                                                                                                                                                                                                                                                                                                                                                                                                                                                                                                                                                                                                                                                                                                                                                                                                                                                                                                                                                                                                                                                                                                                                                                                                            |\n",
            "|(\"5'nucleotidase\", 'Activated partial thromboplastin time prolonged', 'Cytomegalovirus test negative')         |[]                                                                                                                                                                                                                                                                                                                                                                                                                                                                                                                                                                                                                                                                                                                                                                                                                                                                                                                                                                                                                                                                                                                                                                                                                                                                                                                                                                                                                                                                                                                                                                                                                                                                                            |\n",
            "|(\"5'nucleotidase\", 'Activated partial thromboplastin time prolonged', 'Fibrin D dimer')                        |[]                                                                                                                                                                                                                                                                                                                                                                                                                                                                                                                                                                                                                                                                                                                                                                                                                                                                                                                                                                                                                                                                                                                                                                                                                                                                                                                                                                                                                                                                                                                                                                                                                                                                                            |\n",
            "|(\"5'nucleotidase\", 'Activated partial thromboplastin time prolonged', 'Gamma-glutamyltransferase increased')   |[]                                                                                                                                                                                                                                                                                                                                                                                                                                                                                                                                                                                                                                                                                                                                                                                                                                                                                                                                                                                                                                                                                                                                                                                                                                                                                                                                                                                                                                                                                                                                                                                                                                                                                            |\n",
            "|(\"5'nucleotidase\", 'Activated partial thromboplastin time prolonged', 'Globulin')                              |[]                                                                                                                                                                                                                                                                                                                                                                                                                                                                                                                                                                                                                                                                                                                                                                                                                                                                                                                                                                                                                                                                                                                                                                                                                                                                                                                                                                                                                                                                                                                                                                                                                                                                                            |\n",
            "|(\"5'nucleotidase\", 'Activated partial thromboplastin time prolonged', 'HIV antibody negative')                 |[]                                                                                                                                                                                                                                                                                                                                                                                                                                                                                                                                                                                                                                                                                                                                                                                                                                                                                                                                                                                                                                                                                                                                                                                                                                                                                                                                                                                                                                                                                                                                                                                                                                                                                            |\n",
            "+---------------------------------------------------------------------------------------------------------------+----------------------------------------------------------------------------------------------------------------------------------------------------------------------------------------------------------------------------------------------------------------------------------------------------------------------------------------------------------------------------------------------------------------------------------------------------------------------------------------------------------------------------------------------------------------------------------------------------------------------------------------------------------------------------------------------------------------------------------------------------------------------------------------------------------------------------------------------------------------------------------------------------------------------------------------------------------------------------------------------------------------------------------------------------------------------------------------------------------------------------------------------------------------------------------------------------------------------------------------------------------------------------------------------------------------------------------------------------------------------------------------------------------------------------------------------------------------------------------------------------------------------------------------------------------------------------------------------------------------------------------------------------------------------------------------------+\n",
            "only showing top 20 rows\n",
            "\n",
            "CPU times: user 17.3 s, sys: 2.06 s, total: 19.3 s\n",
            "Wall time: 54min 32s\n"
          ]
        }
      ],
      "source": [
        "%%time\n",
        "\"\"\"\n",
        "TODO: run the MBA algorithm and show the first 5 association rules\n",
        "\"\"\"\n",
        "# Step 1 - Combination occurrences\n",
        "df_OB_ext_rdd = df_OB_ext_rdd.flatMap(map_to_patterns)\n",
        "\n",
        "# Step 2 - ReduceByKey\n",
        "df_OB_ext_rdd = df_OB_ext_rdd.reduceByKey(reduce_patterns)\n",
        "\n",
        "# Step 3 - Map to subpattern\n",
        "df_OB_ext_rdd = df_OB_ext_rdd.flatMap(map_to_subpatterns)\n",
        "\n",
        "# Step 4 - Reduce Subpatterns\n",
        "df_OB_ext_rdd = df_OB_ext_rdd.groupByKey().mapValues(list)\n",
        "\n",
        "# Step 5 - Map to Association Rules\n",
        "df_OB_ext_rdd = df_OB_ext_rdd.flatMap(map_to_assoc_rules)\n",
        "\n",
        "df_OB_ext_rdd.map(format_tuples).toDF(['SYMPTOM (step 5)', 'ReduceSubpatterns']).sort(['SYMPTOM (step 5)']).show(20, truncate=False)"
      ]
    },
    {
      "cell_type": "markdown",
      "metadata": {
        "id": "wJD-Ra-qp5QZ"
      },
      "source": [
        "Attention, l'exécution de cellule-ci devrait prendre plusieurs dizaines de minutes, dépendamment de l'implémentation que vous avez codé."
      ]
    },
    {
      "cell_type": "markdown",
      "metadata": {
        "id": "e06nMh97qgl_"
      },
      "source": [
        "## 4. MBA pour le dataset complet (20 points)\n"
      ]
    },
    {
      "cell_type": "markdown",
      "metadata": {
        "id": "5DkNPEtGMa0l"
      },
      "source": [
        "Comme vous l'avez probablement remarqué, même pour un ensemble de données moins volumineux, l'algorithme MBA est coûteux en calcul. Pour cette raison, cette fois, nous allons répéter le processus, mais en utilisant maintenant Google Cloud Platform (GCP) pour créer un grand cluster. Toutes les instructions pour créer un cluster avec spark et comment soumettre un travail seront expliquées dans le laboratoire. Dans tous les cas, vous devez lire les instructions données dans le ``Instruction_GCP.pdf``.\n",
        "\n",
        "Cette fois, nous travaillerons avec le fichier ``OBSERVATIONS.csv``, qui contient plusieurs millions d'observations.\n",
        "\n",
        "**PRODUCTION ATTENDUE**\n",
        "\n",
        "Après avoir exécuté le MBA pour la plus grande collection d'observation, sélectionnez au hasard UN symptôme observé dans ``OBSERVATIONS`` et affichez les règles d'association (nom du symptôme et valeur d'association) de ce symptôme, c'est-à-dire lorsque le symptôme est seul. La sortie doit être formatée dans un tableau, où chaque ligne contenant les informations d'un symptôme associé.\n",
        "Afin d'accélérer son exécution, vous pouvez créer un second notebook uniquement dédié à cette partie et l'insérer dans le rendu final.\n",
        "\n",
        "- Affichez l'identifiant (SYMPTOM_ID) et le nom du symptôme (SYMPTOM_NAME) sélectionné au hasard.\n",
        "- Signalez le temps d'exécution.\n",
        "\n",
        "**Remarque importante : joignez des captures d'écran de votre sortie et de votre configuration de cluster.**"
      ]
    }
  ],
  "metadata": {
    "colab": {
      "collapsed_sections": [
        "ZQOy7hD8t76L"
      ],
      "provenance": [],
      "toc_visible": true
    },
    "kernelspec": {
      "display_name": "Python 3 (ipykernel)",
      "language": "python",
      "name": "python3"
    },
    "language_info": {
      "codemirror_mode": {
        "name": "ipython",
        "version": 3
      },
      "file_extension": ".py",
      "mimetype": "text/x-python",
      "name": "python",
      "nbconvert_exporter": "python",
      "pygments_lexer": "ipython3",
      "version": "3.11.5"
    }
  },
  "nbformat": 4,
  "nbformat_minor": 0
}
