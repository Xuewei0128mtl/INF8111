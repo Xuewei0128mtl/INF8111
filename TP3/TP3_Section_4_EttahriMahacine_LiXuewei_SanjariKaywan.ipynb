{
  "cells": [
    {
      "cell_type": "markdown",
      "metadata": {
        "id": "4mh2MiuVMazk"
      },
      "source": [
        "# TP3 - Market Basket Analysis\n",
        "INF8111 - Fouille de données, Eté 2024\n",
        "### Membres de l'équipe\n",
        "    - Ettahri Mahacine - 2312965 - 1\n",
        "    - Li Xuewei - 1879356 - 2\n",
        "    - Sanjari Kaywan - 1989922 - 3\n"
      ]
    },
    {
      "cell_type": "code",
      "execution_count": null,
      "metadata": {
        "id": "oBYZkM_L5NX9",
        "tags": []
      },
      "outputs": [],
      "source": [
        "bucket_name = 'bucket-tp3-inf8111'\n",
        "ROOT = f'gs://{bucket_name}/'"
      ]
    },
    {
      "cell_type": "markdown",
      "metadata": {
        "id": "bh1o2bpwPQJG"
      },
      "source": [
        "## Date et directives de remise\n",
        "Vous remettrez l'ensemble des fichiers nécessaires à la réalisation de TP au sein d'une archive compressée ZIP nommée TP3\\_NomDuMembre1\\_NomDuMembre2\\_NomDuMembre3\n",
        "\n",
        "Cette archive devra, au minimum, inclure ce notebook, nommé TP3\\_NomDuMembre1\\_NomDuMembre2\\_NomDuMembre3.ipynb\n",
        "\n",
        "**Date limite: 23 juin à 23:55**."
      ]
    },
    {
      "cell_type": "markdown",
      "metadata": {
        "id": "rovSCW_vYs7m"
      },
      "source": [
        "#### Test de l'installation\n",
        "À l'aide du code suivant, vous pouvez tester si Spark est correctement installé."
      ]
    },
    {
      "cell_type": "code",
      "execution_count": null,
      "metadata": {
        "id": "UxgNiBFkYs7n",
        "outputId": "d37d9bb4-ba4a-4b95-f1c7-c4b3001f34b5",
        "tags": []
      },
      "outputs": [
        {
          "name": "stderr",
          "output_type": "stream",
          "text": [
            "[Stage 0:>                                                          (0 + 1) / 1]\r"
          ]
        },
        {
          "name": "stdout",
          "output_type": "stream",
          "text": [
            "+-----+\n",
            "|hello|\n",
            "+-----+\n",
            "|spark|\n",
            "+-----+\n",
            "\n"
          ]
        },
        {
          "name": "stderr",
          "output_type": "stream",
          "text": [
            "                                                                                \r"
          ]
        }
      ],
      "source": [
        "import pyspark\n",
        "from pyspark.sql import SparkSession\n",
        "spark = SparkSession.builder.getOrCreate()\n",
        "df = spark.sql(\"select 'spark' as hello \")\n",
        "df.show()"
      ]
    },
    {
      "cell_type": "markdown",
      "metadata": {
        "id": "e06nMh97qgl_"
      },
      "source": [
        "## 4. MBA pour le dataset complet (20 points)\n"
      ]
    },
    {
      "cell_type": "markdown",
      "metadata": {
        "id": "5DkNPEtGMa0l"
      },
      "source": [
        "Comme vous l'avez probablement remarqué, même pour un ensemble de données moins volumineux, l'algorithme MBA est coûteux en calcul. Pour cette raison, cette fois, nous allons répéter le processus, mais en utilisant maintenant Google Cloud Platform (GCP) pour créer un grand cluster. Toutes les instructions pour créer un cluster avec spark et comment soumettre un travail seront expliquées dans le laboratoire. Dans tous les cas, vous devez lire les instructions données dans le ``Instruction_GCP.pdf``.\n",
        "\n",
        "Cette fois, nous travaillerons avec le fichier ``OBSERVATIONS.csv``, qui contient plusieurs millions d'observations.\n",
        "\n",
        "**PRODUCTION ATTENDUE**\n",
        "\n",
        "Après avoir exécuté le MBA pour la plus grande collection d'observation, sélectionnez au hasard UN symptôme observé dans ``OBSERVATIONS`` et affichez les règles d'association (nom du symptôme et valeur d'association) de ce symptôme, c'est-à-dire lorsque le symptôme est seul. La sortie doit être formatée dans un tableau, où chaque ligne contenant les informations d'un symptôme associé.\n",
        "Afin d'accélérer son exécution, vous pouvez créer un second notebook uniquement dédié à cette partie et l'insérer dans le rendu final.\n",
        "\n",
        "- Affichez l'identifiant (SYMPTOM_ID) et le nom du symptôme (SYMPTOM_NAME) sélectionné au hasard.\n",
        "- Signalez le temps d'exécution.\n",
        "\n",
        "**Remarque importante : joignez des captures d'écran de votre sortie et de votre configuration de cluster.**"
      ]
    },
    {
      "cell_type": "code",
      "execution_count": null,
      "metadata": {
        "id": "MVBQ12b2Ma0o",
        "outputId": "72415631-9c43-4992-cbab-ea07a1cc5756",
        "tags": []
      },
      "outputs": [
        {
          "name": "stderr",
          "output_type": "stream",
          "text": [
            "                                                                                \r"
          ]
        },
        {
          "name": "stdout",
          "output_type": "stream",
          "text": [
            "+--------+-------------------------------------------------------------------------------------------------------------------------+\n",
            "|VAERS_ID|transaction                                                                                                              |\n",
            "+--------+-------------------------------------------------------------------------------------------------------------------------+\n",
            "|25002   |Convulsion,Chills                                                                                                        |\n",
            "|25010   |Bronchitis                                                                                                               |\n",
            "|25011   |Vomiting,Convulsion,Pyrexia                                                                                              |\n",
            "|25055   |Hepatic function abnormal,Hepatocellular damage,Nausea,Neoplasm malignant                                                |\n",
            "|25056   |Hepatic cirrhosis,Malaise                                                                                                |\n",
            "|25057   |Anaphylactoid reaction                                                                                                   |\n",
            "|25058   |Headache,Convulsion,Electroencephalogram abnormal                                                                        |\n",
            "|25060   |Angina pectoris,Urticaria,Angioneurotic oedema                                                                           |\n",
            "|25061   |Dyspnoea,Rash,Anaphylactoid reaction                                                                                     |\n",
            "|25064   |Congenital anomaly                                                                                                       |\n",
            "|25066   |Vomiting,Tachycardia,Apnoea,Weight decreased,Bradycardia,Pyrexia                                                         |\n",
            "|25486   |Facial palsy,Asthenia,Pyrexia                                                                                            |\n",
            "|25519   |Diabetes mellitus                                                                                                        |\n",
            "|25520   |Sepsis                                                                                                                   |\n",
            "|25528   |Dyspnoea,Rash,Anaphylactoid reaction,Pruritus,Asthma                                                                     |\n",
            "|25540   |Hyperventilation,Rash maculo-papular,Conjunctivitis,Laryngospasm,Urticaria,Dyspnoea,Paraesthesia,Chest pain,Nausea,Asthma|\n",
            "|25541   |Abortion,Vaginal haemorrhage                                                                                             |\n",
            "|25555   |Convulsion,Pyrexia                                                                                                       |\n",
            "|25567   |Paraesthesia,Laboratory test abnormal,Myasthenic syndrome                                                                |\n",
            "|25608   |Abdominal pain,Pallor,Anorexia,Cholecystitis,Abdominal distension                                                        |\n",
            "+--------+-------------------------------------------------------------------------------------------------------------------------+\n",
            "only showing top 20 rows\n",
            "\n"
          ]
        },
        {
          "name": "stderr",
          "output_type": "stream",
          "text": [
            "[Stage 14:====================================================>   (16 + 1) / 17]\r"
          ]
        },
        {
          "name": "stdout",
          "output_type": "stream",
          "text": [
            "CPU times: user 38.5 ms, sys: 8.9 ms, total: 47.4 ms\n",
            "Wall time: 21.1 s\n"
          ]
        }
      ],
      "source": [
        "%%time\n",
        "\"\"\"\n",
        "TODO: create a query to create and struct the transactions\n",
        "\"\"\"\n",
        "from itertools import combinations\n",
        "from pyspark.sql.functions import collect_list, concat_ws, collect_set\n",
        "\n",
        "def map_to_patterns(row):\n",
        "    transaction = sorted(row.transaction.split(','))\n",
        "\n",
        "    single = list(combinations(transaction, 1))\n",
        "    pair = list(combinations(transaction, 2))\n",
        "    trio = list(combinations(transaction, 3))\n",
        "\n",
        "    pattern_list = single + pair + trio\n",
        "\n",
        "    for p in pattern_list:\n",
        "        yield (p, 1)\n",
        "\n",
        "def format_tuples(pattern):\n",
        "    return (str(pattern[0]), str(pattern[1]))\n",
        "\n",
        "def reduce_patterns(v1, v2):\n",
        "    return v1 + v2\n",
        "\n",
        "def map_to_subpatterns(pattern):\n",
        "    single = list(combinations(pattern[0], 1))\n",
        "    pair = list(combinations(pattern[0], 2))\n",
        "    trio = list(combinations(pattern[0], 3))\n",
        "\n",
        "    combo_list = single + pair + trio\n",
        "    combo_list_processed = [combo for combo in combo_list if len(combo) >= (len(pattern[0]) - 1)]\n",
        "\n",
        "    for subpattern in combo_list_processed:\n",
        "        missing_elements = set(pattern[0]) - set(subpattern)\n",
        "        if missing_elements == set():\n",
        "            missing_elements = None\n",
        "            yield (subpattern, (None, pattern[1]))\n",
        "        else:\n",
        "            yield (subpattern, (*missing_elements, pattern[1]))\n",
        "\n",
        "\n",
        "def map_to_assoc_rules(rule):\n",
        "    # Unpack the input rule into subpattern and its associated rules\n",
        "    subpattern, rules = rule\n",
        "\n",
        "    # Extract the total count for the subpattern from the rules list\n",
        "    # This is done by finding the count where the item is None\n",
        "    total_count = next((count for item, count in rules if item is None), 0)\n",
        "\n",
        "    # If total count is zero, return an empty list (no association rules possible)\n",
        "    if total_count == 0:\n",
        "        return []\n",
        "\n",
        "    # Iterate over each item and its count in the rules list\n",
        "    assoc_rules = [(item, count / total_count) for item, count in rules if item is not None]\n",
        "\n",
        "    yield (subpattern, assoc_rules)\n",
        "\n",
        "df_observations = spark.read.csv(ROOT + 'OBSERVATIONS.csv', header=True, sep=',', inferSchema=True)\n",
        "df_symptoms = spark.read.csv(ROOT + 'SYMPTOMS.csv', header=True, sep=',', inferSchema=True)\n",
        "df_OB_ext = df_observations.join(df_symptoms, ['SYMPTOM_ID'])\n",
        "df_OB_ext = df_OB_ext.groupBy(df_OB_ext.VAERS_ID)\\\n",
        "                          .agg(concat_ws(',', collect_set('SYMPTOM_NAME')).alias('transaction'))\\\n",
        "                          .orderBy('VAERS_ID')\n",
        "\n",
        "\n",
        "df_OB_ext.show(truncate = False)\n",
        "df_OB_ext_rdd = df_OB_ext.rdd"
      ]
    },
    {
      "cell_type": "code",
      "execution_count": null,
      "metadata": {
        "id": "KTAIVDAvsWW5",
        "outputId": "19945628-fa66-4d1c-ec9e-87408ac7cb8e",
        "tags": []
      },
      "outputs": [
        {
          "name": "stdout",
          "output_type": "stream",
          "text": [
            "CPU times: user 1.11 ms, sys: 455 µs, total: 1.56 ms\n",
            "Wall time: 3.63 ms\n"
          ]
        }
      ],
      "source": [
        "%%time\n",
        "# Step 1 - Combination occurrences\n",
        "df_OB_ext_rdd = df_OB_ext_rdd.flatMap(map_to_patterns)"
      ]
    },
    {
      "cell_type": "code",
      "execution_count": null,
      "metadata": {
        "id": "6h6gSxILv_G_",
        "outputId": "fb6b7425-c09b-447d-c8e6-2fd4bfac884f",
        "tags": []
      },
      "outputs": [
        {
          "name": "stdout",
          "output_type": "stream",
          "text": [
            "CPU times: user 8.8 ms, sys: 1.95 ms, total: 10.8 ms\n",
            "Wall time: 51.2 ms\n"
          ]
        }
      ],
      "source": [
        "%%time\n",
        "# Step 2 - ReduceByKey\n",
        "df_OB_ext_rdd = df_OB_ext_rdd.reduceByKey(reduce_patterns)"
      ]
    },
    {
      "cell_type": "code",
      "execution_count": null,
      "metadata": {
        "id": "PKu7-nNRv_HB",
        "outputId": "470c254c-7b74-48aa-e5aa-0c95d43001a1",
        "tags": []
      },
      "outputs": [
        {
          "name": "stdout",
          "output_type": "stream",
          "text": [
            "CPU times: user 18 µs, sys: 7 µs, total: 25 µs\n",
            "Wall time: 29.3 µs\n"
          ]
        }
      ],
      "source": [
        "%%time\n",
        "# Step 3 - Map to subpattern\n",
        "df_OB_ext_rdd = df_OB_ext_rdd.flatMap(map_to_subpatterns)"
      ]
    },
    {
      "cell_type": "code",
      "execution_count": null,
      "metadata": {
        "id": "icGo0I3yv_HB",
        "outputId": "06c4e60d-168a-467f-fffe-7a9e7bbfe97a",
        "tags": []
      },
      "outputs": [
        {
          "name": "stdout",
          "output_type": "stream",
          "text": [
            "CPU times: user 6.45 ms, sys: 975 µs, total: 7.42 ms\n",
            "Wall time: 16.5 ms\n"
          ]
        }
      ],
      "source": [
        "%%time\n",
        "# Step 4 - Reduce Subpatterns\n",
        "df_OB_ext_rdd = df_OB_ext_rdd.groupByKey().mapValues(list)"
      ]
    },
    {
      "cell_type": "code",
      "execution_count": null,
      "metadata": {
        "id": "2FUB-_fAv_HC",
        "outputId": "372bbc37-c78f-4ee6-9835-a5ede75106f6",
        "tags": []
      },
      "outputs": [
        {
          "name": "stdout",
          "output_type": "stream",
          "text": [
            "CPU times: user 18 µs, sys: 7 µs, total: 25 µs\n",
            "Wall time: 29.1 µs\n"
          ]
        }
      ],
      "source": [
        "%%time\n",
        "# Step 5 - Map to Association Rules\n",
        "df_OB_ext_rdd = df_OB_ext_rdd.flatMap(map_to_assoc_rules)"
      ]
    },
    {
      "cell_type": "code",
      "execution_count": null,
      "metadata": {
        "id": "-z9piiMSv_HD",
        "outputId": "46fff560-2049-4ab5-90e2-3c7b381ae0c2",
        "tags": []
      },
      "outputs": [
        {
          "name": "stderr",
          "output_type": "stream",
          "text": [
            "[Stage 24:====================================================>   (16 + 1) / 17]\r"
          ]
        },
        {
          "name": "stdout",
          "output_type": "stream",
          "text": [
            "+--------------------------------------------------------------------------------------------------------+-----------------------------------------------------------------------------------------------------------------------------------------------------------------------------------------------------------------+\n",
            "|SYMPTOM (step 5)                                                                                        |ReduceSubpatterns                                                                                                                                                                                                |\n",
            "+--------------------------------------------------------------------------------------------------------+-----------------------------------------------------------------------------------------------------------------------------------------------------------------------------------------------------------------+\n",
            "|(\"5'nucleotidase increased\", 'Amylase normal')                                                          |[('Lipase normal', 1.0), ('Haemangioma of liver', 1.0), ('Blood alkaline phosphatase increased', 1.0), ('Hepatic steatosis', 1.0), ('Gamma-glutamyltransferase normal', 1.0), ('Ultrasound liver abnormal', 1.0)]|\n",
            "|(\"5'nucleotidase increased\", 'Amylase normal', 'Blood alkaline phosphatase increased')                  |[]                                                                                                                                                                                                               |\n",
            "|(\"5'nucleotidase increased\", 'Amylase normal', 'Gamma-glutamyltransferase normal')                      |[]                                                                                                                                                                                                               |\n",
            "|(\"5'nucleotidase increased\", 'Amylase normal', 'Haemangioma of liver')                                  |[]                                                                                                                                                                                                               |\n",
            "|(\"5'nucleotidase increased\", 'Amylase normal', 'Hepatic steatosis')                                     |[]                                                                                                                                                                                                               |\n",
            "|(\"5'nucleotidase increased\", 'Amylase normal', 'Lipase normal')                                         |[]                                                                                                                                                                                                               |\n",
            "|(\"5'nucleotidase increased\", 'Amylase normal', 'Ultrasound liver abnormal')                             |[]                                                                                                                                                                                                               |\n",
            "|(\"5'nucleotidase increased\", 'Blood alkaline phosphatase increased')                                    |[('Ultrasound liver abnormal', 1.0), ('Gamma-glutamyltransferase normal', 1.0), ('Amylase normal', 1.0), ('Haemangioma of liver', 1.0), ('Hepatic steatosis', 1.0), ('Lipase normal', 1.0)]                      |\n",
            "|(\"5'nucleotidase increased\", 'Blood alkaline phosphatase increased', 'Gamma-glutamyltransferase normal')|[]                                                                                                                                                                                                               |\n",
            "|(\"5'nucleotidase increased\", 'Blood alkaline phosphatase increased', 'Haemangioma of liver')            |[]                                                                                                                                                                                                               |\n",
            "|(\"5'nucleotidase increased\", 'Blood alkaline phosphatase increased', 'Hepatic steatosis')               |[]                                                                                                                                                                                                               |\n",
            "|(\"5'nucleotidase increased\", 'Blood alkaline phosphatase increased', 'Lipase normal')                   |[]                                                                                                                                                                                                               |\n",
            "|(\"5'nucleotidase increased\", 'Blood alkaline phosphatase increased', 'Ultrasound liver abnormal')       |[]                                                                                                                                                                                                               |\n",
            "|(\"5'nucleotidase increased\", 'Gamma-glutamyltransferase normal')                                        |[('Hepatic steatosis', 1.0), ('Blood alkaline phosphatase increased', 1.0), ('Lipase normal', 1.0), ('Amylase normal', 1.0), ('Ultrasound liver abnormal', 1.0), ('Haemangioma of liver', 1.0)]                  |\n",
            "|(\"5'nucleotidase increased\", 'Gamma-glutamyltransferase normal', 'Haemangioma of liver')                |[]                                                                                                                                                                                                               |\n",
            "|(\"5'nucleotidase increased\", 'Gamma-glutamyltransferase normal', 'Hepatic steatosis')                   |[]                                                                                                                                                                                                               |\n",
            "|(\"5'nucleotidase increased\", 'Gamma-glutamyltransferase normal', 'Lipase normal')                       |[]                                                                                                                                                                                                               |\n",
            "|(\"5'nucleotidase increased\", 'Gamma-glutamyltransferase normal', 'Ultrasound liver abnormal')           |[]                                                                                                                                                                                                               |\n",
            "|(\"5'nucleotidase increased\", 'Haemangioma of liver')                                                    |[('Ultrasound liver abnormal', 1.0), ('Amylase normal', 1.0), ('Blood alkaline phosphatase increased', 1.0), ('Lipase normal', 1.0), ('Hepatic steatosis', 1.0), ('Gamma-glutamyltransferase normal', 1.0)]      |\n",
            "|(\"5'nucleotidase increased\", 'Haemangioma of liver', 'Hepatic steatosis')                               |[]                                                                                                                                                                                                               |\n",
            "+--------------------------------------------------------------------------------------------------------+-----------------------------------------------------------------------------------------------------------------------------------------------------------------------------------------------------------------+\n",
            "only showing top 20 rows\n",
            "\n",
            "CPU times: user 407 ms, sys: 107 ms, total: 514 ms\n",
            "Wall time: 32min 56s\n"
          ]
        },
        {
          "name": "stderr",
          "output_type": "stream",
          "text": [
            "                                                                                \r"
          ]
        }
      ],
      "source": [
        "%%time\n",
        "df_OB_ext_rdd.map(format_tuples).toDF(['SYMPTOM (step 5)', 'ReduceSubpatterns']).sort(['SYMPTOM (step 5)']).show(20, truncate=False)"
      ]
    },
    {
      "cell_type": "code",
      "execution_count": null,
      "metadata": {
        "id": "X1cVWxraMa0l",
        "outputId": "f377b08b-3526-4d81-e628-226bce303030",
        "tags": []
      },
      "outputs": [
        {
          "name": "stderr",
          "output_type": "stream",
          "text": [
            "                                                                                \r"
          ]
        },
        {
          "name": "stdout",
          "output_type": "stream",
          "text": [
            "Association Rules for Symptom ID: 2545, Symptom Name: Tongue discolouration\n",
            "+----------------------------+---------------------+\n",
            "|symptom                     |information          |\n",
            "+----------------------------+---------------------+\n",
            "|Ureaplasma test positive    |0.002364066193853428 |\n",
            "|Granulocyte percentage      |0.002364066193853428 |\n",
            "|Tongue biting               |0.002364066193853428 |\n",
            "|Secretion discharge         |0.0070921985815602835|\n",
            "|Fluid retention             |0.002364066193853428 |\n",
            "|Respiratory arrest          |0.002364066193853428 |\n",
            "|Melaena                     |0.002364066193853428 |\n",
            "|Ultrasound liver            |0.002364066193853428 |\n",
            "|Musculoskeletal pain        |0.002364066193853428 |\n",
            "|Coma                        |0.002364066193853428 |\n",
            "|Chest discomfort            |0.04964539007092199  |\n",
            "|Eating disorder             |0.01182033096926714  |\n",
            "|Ageusia                     |0.04728132387706856  |\n",
            "|Drug interaction            |0.002364066193853428 |\n",
            "|Vascular insufficiency      |0.002364066193853428 |\n",
            "|Product administration error|0.004728132387706856 |\n",
            "|Ejection fraction decreased |0.002364066193853428 |\n",
            "|Immunisation reaction       |0.004728132387706856 |\n",
            "|Haematocrit decreased       |0.009456264775413711 |\n",
            "|Bilirubin urine             |0.002364066193853428 |\n",
            "+----------------------------+---------------------+\n",
            "only showing top 20 rows\n",
            "\n",
            "CPU times: user 66.6 ms, sys: 24.9 ms, total: 91.5 ms\n",
            "Wall time: 2min 31s\n"
          ]
        }
      ],
      "source": [
        "%%time\n",
        "import random\n",
        "import ast\n",
        "from pyspark.sql import functions as F\n",
        "from pyspark.sql.types import ArrayType, StructType, StructField, StringType, DoubleType\n",
        "\n",
        "# Define a UDF to convert the string representation of a tuple to an array\n",
        "def tuple_to_array(patterns):\n",
        "    patterns = patterns.strip(\"()\")\n",
        "    array = [elem.strip(\" '\") for elem in patterns.split(\",\") if elem]\n",
        "    return array\n",
        "\n",
        "# Define a UDF to convert the string representation of association rules to an array of tuples\n",
        "def assoc_rules_to_array(rules):\n",
        "    return ast.literal_eval(rules)\n",
        "\n",
        "# Register the UDFs\n",
        "tuple_to_array_udf = F.udf(tuple_to_array, ArrayType(StringType()))\n",
        "assoc_rules_to_array_udf = F.udf(assoc_rules_to_array, ArrayType(StructType([\n",
        "    StructField(\"rule\", StringType(), nullable=True),\n",
        "    StructField(\"value\", DoubleType(), nullable=True)\n",
        "])))\n",
        "\n",
        "random.seed(42)\n",
        "# Collect a 1000 random rows from the RDD\n",
        "random_1000_lines = df_OB_ext_rdd.sample(withReplacement=False, fraction=0.1, seed=42).take(1000)\n",
        "\n",
        "# Parallelize these lines into a new RDD\n",
        "random_1000_lines_rdd = spark.sparkContext.parallelize(random_1000_lines)\n",
        "\n",
        "# Apply the UDFs and filter the DataFrame\n",
        "assoc_rules_df_array = random_1000_lines_rdd.map(format_tuples).toDF(['patterns', 'association_rules'])\\\n",
        "    .withColumn(\"patterns\", tuple_to_array_udf(F.col(\"patterns\")))\\\n",
        "    .withColumn(\"association_rules\", assoc_rules_to_array_udf(F.col(\"association_rules\")))\\\n",
        "    .filter(F.size(\"patterns\") == 1)\n",
        "\n",
        "# Explode the patterns column\n",
        "exploded_patterns_df = assoc_rules_df_array.select(F.explode(\"patterns\").alias(\"pattern\"))\n",
        "\n",
        "# Collect the patterns into a list\n",
        "patterns_list = exploded_patterns_df.select(\"pattern\").rdd.flatMap(lambda x: x).collect()\n",
        "\n",
        "# Choose a random pattern from the list)\n",
        "random_symptom_name = random.choice(patterns_list)\n",
        "\n",
        "# Filter the DataFrame for the chosen random pattern to get the corresponding association rules\n",
        "association_rules_for_random_symptom = assoc_rules_df_array.filter(F.array_contains(F.col(\"patterns\"), random_symptom_name))\n",
        "\n",
        "# Split the association_rules column into separate rows\n",
        "exploded_assoc_rules = association_rules_for_random_symptom.withColumn(\"association_rule\", F.explode(\"association_rules\"))\n",
        "# Create a new DataFrame with 'symptom' and 'information' columns\n",
        "association_table = exploded_assoc_rules.select(\n",
        "     F.col(\"association_rule.rule\").alias(\"symptom\"),\n",
        "     F.col(\"association_rule.value\").alias(\"information\")\n",
        ")\n",
        "\n",
        "# Get the Id of the chosen symptom from df_symptoms\n",
        "symptom_row = df_symptoms.filter(df_symptoms.SYMPTOM_NAME == random_symptom_name.replace('\"','')).select('SYMPTOM_ID','SYMPTOM_NAME').collect()[0]\n",
        "random_symptom_id = symptom_row[\"SYMPTOM_ID\"]\n",
        "\n",
        "# Display the title with the randomly selected symptom ID and name\n",
        "title = f\"Association Rules for Symptom ID: {random_symptom_id}, Symptom Name: {random_symptom_name}\"\n",
        "print(title)\n",
        "\n",
        "# Show the association rules table\n",
        "association_table.show(truncate=False)"
      ]
    },
    {
      "cell_type": "code",
      "execution_count": null,
      "metadata": {
        "id": "gXG2Sid4sWW6"
      },
      "outputs": [],
      "source": []
    }
  ],
  "metadata": {
    "colab": {
      "provenance": []
    },
    "kernelspec": {
      "display_name": "PySpark",
      "language": "python",
      "name": "pyspark"
    },
    "language_info": {
      "codemirror_mode": {
        "name": "ipython",
        "version": 3
      },
      "file_extension": ".py",
      "mimetype": "text/x-python",
      "name": "python",
      "nbconvert_exporter": "python",
      "pygments_lexer": "ipython3",
      "version": "3.10.8"
    }
  },
  "nbformat": 4,
  "nbformat_minor": 0
}